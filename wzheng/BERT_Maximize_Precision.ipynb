{
  "cells": [
    {
      "cell_type": "markdown",
      "metadata": {
        "id": "26vRIIlLDKSo"
      },
      "source": [
        "## Hyperparameter Sweep for BERT-based Text Classification\n",
        "\n",
        "### Maximize Precision with a Recall Floor By Using Adjusted Class Weights\n",
        "This notebook performs a random search for the best hyperparameters for a BERT-based text classification model.\n",
        "\n",
        "The goal is to find the model and classification threshold that maximize precision while ensuring recall stays above a reasonable threshold (e.g., 25%). It uses manually adjusted class weights to find a balance between precision and recall."
      ]
    },
    {
      "cell_type": "code",
      "execution_count": null,
      "metadata": {
        "id": "ioWHJCS4cred",
        "colab": {
          "base_uri": "https://localhost:8080/"
        },
        "outputId": "8d986fad-3c3f-4b38-afa9-ef0098527c74"
      },
      "outputs": [
        {
          "output_type": "stream",
          "name": "stdout",
          "text": [
            "\u001b[2K     \u001b[90m━━━━━━━━━━━━━━━━━━━━━━━━━━━━━━━━━━━━━━━━\u001b[0m \u001b[32m61.9/61.9 kB\u001b[0m \u001b[31m2.8 MB/s\u001b[0m eta \u001b[36m0:00:00\u001b[0m\n",
            "\u001b[2K     \u001b[90m━━━━━━━━━━━━━━━━━━━━━━━━━━━━━━━━━━━━━━━━\u001b[0m \u001b[32m62.0/62.0 kB\u001b[0m \u001b[31m6.1 MB/s\u001b[0m eta \u001b[36m0:00:00\u001b[0m\n",
            "\u001b[2K   \u001b[90m━━━━━━━━━━━━━━━━━━━━━━━━━━━━━━━━━━━━━━━━\u001b[0m \u001b[32m17.1/17.1 MB\u001b[0m \u001b[31m115.3 MB/s\u001b[0m eta \u001b[36m0:00:00\u001b[0m\n",
            "\u001b[2K   \u001b[90m━━━━━━━━━━━━━━━━━━━━━━━━━━━━━━━━━━━━━━━━\u001b[0m \u001b[32m585.9/585.9 MB\u001b[0m \u001b[31m1.7 MB/s\u001b[0m eta \u001b[36m0:00:00\u001b[0m\n",
            "\u001b[2K   \u001b[90m━━━━━━━━━━━━━━━━━━━━━━━━━━━━━━━━━━━━━━━━\u001b[0m \u001b[32m100.6/100.6 kB\u001b[0m \u001b[31m9.3 MB/s\u001b[0m eta \u001b[36m0:00:00\u001b[0m\n",
            "\u001b[2K   \u001b[90m━━━━━━━━━━━━━━━━━━━━━━━━━━━━━━━━━━━━━━━━\u001b[0m \u001b[32m6.0/6.0 MB\u001b[0m \u001b[31m96.5 MB/s\u001b[0m eta \u001b[36m0:00:00\u001b[0m\n",
            "\u001b[2K   \u001b[90m━━━━━━━━━━━━━━━━━━━━━━━━━━━━━━━━━━━━━━━━\u001b[0m \u001b[32m135.8/135.8 kB\u001b[0m \u001b[31m12.9 MB/s\u001b[0m eta \u001b[36m0:00:00\u001b[0m\n",
            "\u001b[2K   \u001b[90m━━━━━━━━━━━━━━━━━━━━━━━━━━━━━━━━━━━━━━━━\u001b[0m \u001b[32m57.5/57.5 kB\u001b[0m \u001b[31m5.3 MB/s\u001b[0m eta \u001b[36m0:00:00\u001b[0m\n",
            "\u001b[2K   \u001b[90m━━━━━━━━━━━━━━━━━━━━━━━━━━━━━━━━━━━━━━━━\u001b[0m \u001b[32m6.0/6.0 MB\u001b[0m \u001b[31m125.0 MB/s\u001b[0m eta \u001b[36m0:00:00\u001b[0m\n",
            "\u001b[2K   \u001b[90m━━━━━━━━━━━━━━━━━━━━━━━━━━━━━━━━━━━━━━━━\u001b[0m \u001b[32m4.5/4.5 MB\u001b[0m \u001b[31m123.6 MB/s\u001b[0m eta \u001b[36m0:00:00\u001b[0m\n",
            "\u001b[2K   \u001b[90m━━━━━━━━━━━━━━━━━━━━━━━━━━━━━━━━━━━━━━━━\u001b[0m \u001b[32m2.0/2.0 MB\u001b[0m \u001b[31m90.5 MB/s\u001b[0m eta \u001b[36m0:00:00\u001b[0m\n",
            "\u001b[2K   \u001b[90m━━━━━━━━━━━━━━━━━━━━━━━━━━━━━━━━━━━━━━━━\u001b[0m \u001b[32m1.7/1.7 MB\u001b[0m \u001b[31m88.5 MB/s\u001b[0m eta \u001b[36m0:00:00\u001b[0m\n",
            "\u001b[2K   \u001b[90m━━━━━━━━━━━━━━━━━━━━━━━━━━━━━━━━━━━━━━━━\u001b[0m \u001b[32m24.5/24.5 MB\u001b[0m \u001b[31m99.7 MB/s\u001b[0m eta \u001b[36m0:00:00\u001b[0m\n",
            "\u001b[2K   \u001b[90m━━━━━━━━━━━━━━━━━━━━━━━━━━━━━━━━━━━━━━━━\u001b[0m \u001b[32m71.9/71.9 kB\u001b[0m \u001b[31m6.8 MB/s\u001b[0m eta \u001b[36m0:00:00\u001b[0m\n",
            "\u001b[2K   \u001b[90m━━━━━━━━━━━━━━━━━━━━━━━━━━━━━━━━━━━━━━━━\u001b[0m \u001b[32m294.9/294.9 kB\u001b[0m \u001b[31m26.2 MB/s\u001b[0m eta \u001b[36m0:00:00\u001b[0m\n",
            "\u001b[2K   \u001b[90m━━━━━━━━━━━━━━━━━━━━━━━━━━━━━━━━━━━━━━━━\u001b[0m \u001b[32m5.6/5.6 MB\u001b[0m \u001b[31m115.4 MB/s\u001b[0m eta \u001b[36m0:00:00\u001b[0m\n",
            "\u001b[2K   \u001b[90m━━━━━━━━━━━━━━━━━━━━━━━━━━━━━━━━━━━━━━━━\u001b[0m \u001b[32m1.2/1.2 MB\u001b[0m \u001b[31m69.6 MB/s\u001b[0m eta \u001b[36m0:00:00\u001b[0m\n",
            "\u001b[2K   \u001b[90m━━━━━━━━━━━━━━━━━━━━━━━━━━━━━━━━━━━━━━━━\u001b[0m \u001b[32m440.7/440.7 kB\u001b[0m \u001b[31m35.5 MB/s\u001b[0m eta \u001b[36m0:00:00\u001b[0m\n",
            "\u001b[2K   \u001b[90m━━━━━━━━━━━━━━━━━━━━━━━━━━━━━━━━━━━━━━━━\u001b[0m \u001b[32m5.1/5.1 MB\u001b[0m \u001b[31m122.2 MB/s\u001b[0m eta \u001b[36m0:00:00\u001b[0m\n",
            "\u001b[2K   \u001b[90m━━━━━━━━━━━━━━━━━━━━━━━━━━━━━━━━━━━━━━━━\u001b[0m \u001b[32m78.4/78.4 kB\u001b[0m \u001b[31m7.4 MB/s\u001b[0m eta \u001b[36m0:00:00\u001b[0m\n",
            "\u001b[2K   \u001b[90m━━━━━━━━━━━━━━━━━━━━━━━━━━━━━━━━━━━━━━━━\u001b[0m \u001b[32m66.5/66.5 kB\u001b[0m \u001b[31m6.8 MB/s\u001b[0m eta \u001b[36m0:00:00\u001b[0m\n",
            "\u001b[2K   \u001b[90m━━━━━━━━━━━━━━━━━━━━━━━━━━━━━━━━━━━━━━━━\u001b[0m \u001b[32m216.1/216.1 kB\u001b[0m \u001b[31m20.4 MB/s\u001b[0m eta \u001b[36m0:00:00\u001b[0m\n",
            "\u001b[2K   \u001b[90m━━━━━━━━━━━━━━━━━━━━━━━━━━━━━━━━━━━━━━━━\u001b[0m \u001b[32m79.6/79.6 MB\u001b[0m \u001b[31m28.2 MB/s\u001b[0m eta \u001b[36m0:00:00\u001b[0m\n",
            "\u001b[2K   \u001b[90m━━━━━━━━━━━━━━━━━━━━━━━━━━━━━━━━━━━━━━━━\u001b[0m \u001b[32m106.8/106.8 kB\u001b[0m \u001b[31m9.2 MB/s\u001b[0m eta \u001b[36m0:00:00\u001b[0m\n",
            "\u001b[2K   \u001b[90m━━━━━━━━━━━━━━━━━━━━━━━━━━━━━━━━━━━━━━━━\u001b[0m \u001b[32m4.7/4.7 MB\u001b[0m \u001b[31m106.0 MB/s\u001b[0m eta \u001b[36m0:00:00\u001b[0m\n",
            "\u001b[2K   \u001b[90m━━━━━━━━━━━━━━━━━━━━━━━━━━━━━━━━━━━━━━━━\u001b[0m \u001b[32m64.8/64.8 kB\u001b[0m \u001b[31m5.3 MB/s\u001b[0m eta \u001b[36m0:00:00\u001b[0m\n",
            "\u001b[2K   \u001b[90m━━━━━━━━━━━━━━━━━━━━━━━━━━━━━━━━━━━━━━━━\u001b[0m \u001b[32m37.7/37.7 MB\u001b[0m \u001b[31m61.3 MB/s\u001b[0m eta \u001b[36m0:00:00\u001b[0m\n",
            "\u001b[2K   \u001b[90m━━━━━━━━━━━━━━━━━━━━━━━━━━━━━━━━━━━━━━━━\u001b[0m \u001b[32m6.6/6.6 MB\u001b[0m \u001b[31m129.1 MB/s\u001b[0m eta \u001b[36m0:00:00\u001b[0m\n",
            "\u001b[2K   \u001b[90m━━━━━━━━━━━━━━━━━━━━━━━━━━━━━━━━━━━━━━━━\u001b[0m \u001b[32m224.5/224.5 kB\u001b[0m \u001b[31m19.2 MB/s\u001b[0m eta \u001b[36m0:00:00\u001b[0m\n",
            "\u001b[2K   \u001b[90m━━━━━━━━━━━━━━━━━━━━━━━━━━━━━━━━━━━━━━━━\u001b[0m \u001b[32m72.5/72.5 kB\u001b[0m \u001b[31m6.4 MB/s\u001b[0m eta \u001b[36m0:00:00\u001b[0m\n",
            "\u001b[2K   \u001b[90m━━━━━━━━━━━━━━━━━━━━━━━━━━━━━━━━━━━━━━━━\u001b[0m \u001b[32m159.2/159.2 kB\u001b[0m \u001b[31m15.4 MB/s\u001b[0m eta \u001b[36m0:00:00\u001b[0m\n",
            "\u001b[2K   \u001b[90m━━━━━━━━━━━━━━━━━━━━━━━━━━━━━━━━━━━━━━━━\u001b[0m \u001b[32m147.3/147.3 kB\u001b[0m \u001b[31m14.1 MB/s\u001b[0m eta \u001b[36m0:00:00\u001b[0m\n",
            "\u001b[2K   \u001b[90m━━━━━━━━━━━━━━━━━━━━━━━━━━━━━━━━━━━━━━━━\u001b[0m \u001b[32m70.4/70.4 kB\u001b[0m \u001b[31m6.8 MB/s\u001b[0m eta \u001b[36m0:00:00\u001b[0m\n",
            "\u001b[2K   \u001b[90m━━━━━━━━━━━━━━━━━━━━━━━━━━━━━━━━━━━━━━━━\u001b[0m \u001b[32m181.3/181.3 kB\u001b[0m \u001b[31m16.9 MB/s\u001b[0m eta \u001b[36m0:00:00\u001b[0m\n",
            "\u001b[2K   \u001b[90m━━━━━━━━━━━━━━━━━━━━━━━━━━━━━━━━━━━━━━━━\u001b[0m \u001b[32m129.8/129.8 kB\u001b[0m \u001b[31m12.2 MB/s\u001b[0m eta \u001b[36m0:00:00\u001b[0m\n",
            "\u001b[2K   \u001b[90m━━━━━━━━━━━━━━━━━━━━━━━━━━━━━━━━━━━━━━━━\u001b[0m \u001b[32m160.1/160.1 kB\u001b[0m \u001b[31m11.4 MB/s\u001b[0m eta \u001b[36m0:00:00\u001b[0m\n",
            "\u001b[2K   \u001b[90m━━━━━━━━━━━━━━━━━━━━━━━━━━━━━━━━━━━━━━━━\u001b[0m \u001b[32m83.1/83.1 kB\u001b[0m \u001b[31m8.0 MB/s\u001b[0m eta \u001b[36m0:00:00\u001b[0m\n",
            "\u001b[?25h\u001b[31mERROR: pip's dependency resolver does not currently take into account all the packages that are installed. This behaviour is the source of the following dependency conflicts.\n",
            "ipython 7.34.0 requires jedi>=0.16, which is not installed.\n",
            "google-colab 1.0.0 requires google-auth==2.38.0, but you have google-auth 2.40.3 which is incompatible.\n",
            "google-colab 1.0.0 requires requests==2.32.3, but you have requests 2.32.4 which is incompatible.\n",
            "altair 5.5.0 requires typing-extensions>=4.10.0; python_version < \"3.14\", but you have typing-extensions 4.5.0 which is incompatible.\n",
            "torch 2.6.0+cu124 requires nvidia-cublas-cu12==12.4.5.8; platform_system == \"Linux\" and platform_machine == \"x86_64\", but you have nvidia-cublas-cu12 12.5.3.2 which is incompatible.\n",
            "torch 2.6.0+cu124 requires nvidia-cuda-cupti-cu12==12.4.127; platform_system == \"Linux\" and platform_machine == \"x86_64\", but you have nvidia-cuda-cupti-cu12 12.5.82 which is incompatible.\n",
            "torch 2.6.0+cu124 requires nvidia-cuda-nvrtc-cu12==12.4.127; platform_system == \"Linux\" and platform_machine == \"x86_64\", but you have nvidia-cuda-nvrtc-cu12 12.5.82 which is incompatible.\n",
            "torch 2.6.0+cu124 requires nvidia-cuda-runtime-cu12==12.4.127; platform_system == \"Linux\" and platform_machine == \"x86_64\", but you have nvidia-cuda-runtime-cu12 12.5.82 which is incompatible.\n",
            "torch 2.6.0+cu124 requires nvidia-cudnn-cu12==9.1.0.70; platform_system == \"Linux\" and platform_machine == \"x86_64\", but you have nvidia-cudnn-cu12 9.3.0.75 which is incompatible.\n",
            "torch 2.6.0+cu124 requires nvidia-cufft-cu12==11.2.1.3; platform_system == \"Linux\" and platform_machine == \"x86_64\", but you have nvidia-cufft-cu12 11.2.3.61 which is incompatible.\n",
            "torch 2.6.0+cu124 requires nvidia-curand-cu12==10.3.5.147; platform_system == \"Linux\" and platform_machine == \"x86_64\", but you have nvidia-curand-cu12 10.3.6.82 which is incompatible.\n",
            "torch 2.6.0+cu124 requires nvidia-cusolver-cu12==11.6.1.9; platform_system == \"Linux\" and platform_machine == \"x86_64\", but you have nvidia-cusolver-cu12 11.6.3.83 which is incompatible.\n",
            "torch 2.6.0+cu124 requires nvidia-cusparse-cu12==12.3.1.170; platform_system == \"Linux\" and platform_machine == \"x86_64\", but you have nvidia-cusparse-cu12 12.5.1.3 which is incompatible.\n",
            "torch 2.6.0+cu124 requires nvidia-nvjitlink-cu12==12.4.127; platform_system == \"Linux\" and platform_machine == \"x86_64\", but you have nvidia-nvjitlink-cu12 12.5.82 which is incompatible.\n",
            "torch 2.6.0+cu124 requires typing-extensions>=4.10.0, but you have typing-extensions 4.5.0 which is incompatible.\n",
            "imbalanced-learn 0.13.0 requires numpy<3,>=1.24.3, but you have numpy 1.23.5 which is incompatible.\n",
            "albumentations 2.0.8 requires numpy>=1.24.4, but you have numpy 1.23.5 which is incompatible.\n",
            "xarray 2025.3.1 requires numpy>=1.24, but you have numpy 1.23.5 which is incompatible.\n",
            "chex 0.1.89 requires numpy>=1.24.1, but you have numpy 1.23.5 which is incompatible.\n",
            "orbax-checkpoint 0.11.16 requires jax>=0.5.0, but you have jax 0.4.30 which is incompatible.\n",
            "sqlalchemy 2.0.41 requires typing-extensions>=4.6.0, but you have typing-extensions 4.5.0 which is incompatible.\n",
            "blosc2 3.5.1 requires numpy>=1.26, but you have numpy 1.23.5 which is incompatible.\n",
            "pydantic-core 2.33.2 requires typing-extensions!=4.7.0,>=4.6.0, but you have typing-extensions 4.5.0 which is incompatible.\n",
            "flax 0.10.6 requires jax>=0.5.1, but you have jax 0.4.30 which is incompatible.\n",
            "tf-keras 2.18.0 requires tensorflow<2.19,>=2.18, but you have tensorflow 2.12.1 which is incompatible.\n",
            "nibabel 5.3.2 requires typing-extensions>=4.6; python_version < \"3.13\", but you have typing-extensions 4.5.0 which is incompatible.\n",
            "tensorflow-decision-forests 1.11.0 requires tensorflow==2.18.0, but you have tensorflow 2.12.1 which is incompatible.\n",
            "langchain-core 0.3.67 requires packaging<25,>=23.2, but you have packaging 25.0 which is incompatible.\n",
            "langchain-core 0.3.67 requires typing-extensions>=4.7, but you have typing-extensions 4.5.0 which is incompatible.\n",
            "optree 0.16.0 requires typing-extensions>=4.6.0, but you have typing-extensions 4.5.0 which is incompatible.\n",
            "thinc 8.3.6 requires numpy<3.0.0,>=2.0.0, but you have numpy 1.23.5 which is incompatible.\n",
            "scikit-image 0.25.2 requires numpy>=1.24, but you have numpy 1.23.5 which is incompatible.\n",
            "google-genai 1.24.0 requires typing-extensions<5.0.0,>=4.11.0, but you have typing-extensions 4.5.0 which is incompatible.\n",
            "xarray-einstats 0.9.1 requires numpy>=1.25, but you have numpy 1.23.5 which is incompatible.\n",
            "typing-inspection 0.4.1 requires typing-extensions>=4.12.0, but you have typing-extensions 4.5.0 which is incompatible.\n",
            "grpcio-status 1.71.2 requires protobuf<6.0dev,>=5.26.1, but you have protobuf 4.25.8 which is incompatible.\n",
            "bigframes 2.8.0 requires numpy>=1.24.0, but you have numpy 1.23.5 which is incompatible.\n",
            "pymc 5.23.0 requires numpy>=1.25.0, but you have numpy 1.23.5 which is incompatible.\n",
            "albucore 0.0.24 requires numpy>=1.24.4, but you have numpy 1.23.5 which is incompatible.\n",
            "openai 1.93.0 requires typing-extensions<5,>=4.11, but you have typing-extensions 4.5.0 which is incompatible.\n",
            "wandb 0.21.0 requires typing-extensions<5,>=4.8, but you have typing-extensions 4.5.0 which is incompatible.\n",
            "treescope 0.1.9 requires numpy>=1.25.2, but you have numpy 1.23.5 which is incompatible.\n",
            "pydantic 2.11.7 requires typing-extensions>=4.12.2, but you have typing-extensions 4.5.0 which is incompatible.\n",
            "typeguard 4.4.4 requires typing_extensions>=4.14.0, but you have typing-extensions 4.5.0 which is incompatible.\n",
            "db-dtypes 1.4.3 requires numpy>=1.24.0, but you have numpy 1.23.5 which is incompatible.\n",
            "ydf 0.12.0 requires protobuf<6.0.0,>=5.29.1, but you have protobuf 4.25.8 which is incompatible.\n",
            "fastapi 0.115.14 requires typing-extensions>=4.8.0, but you have typing-extensions 4.5.0 which is incompatible.\u001b[0m\u001b[31m\n",
            "\u001b[0m"
          ]
        }
      ],
      "source": [
        "# After installations if the tf version is inconsistent the runtime might crash\n",
        "# If that happens, use the `os.kill` line and proceed to next\n",
        "import os\n",
        "\n",
        "!pip install -q --upgrade --force-reinstall \\\n",
        "    numpy==1.23.5 \\\n",
        "    tensorflow==2.12.1 \\\n",
        "    tensorflow-hub==0.13.0 \\\n",
        "    tensorflow-text==2.12.1\n",
        "\n",
        "os.kill(os.getpid(), 9)"
      ]
    },
    {
      "cell_type": "code",
      "execution_count": null,
      "metadata": {
        "id": "Whq3_F0WdOFx",
        "colab": {
          "base_uri": "https://localhost:8080/"
        },
        "outputId": "24480404-8c92-4dc6-b710-b9a6c0a5f203"
      },
      "outputs": [
        {
          "output_type": "stream",
          "name": "stdout",
          "text": [
            "TensorFlow version: 2.12.1\n"
          ]
        }
      ],
      "source": [
        "import pandas as pd\n",
        "import numpy as np\n",
        "import tensorflow as tf\n",
        "import tensorflow_hub as hub\n",
        "import tensorflow_text as text\n",
        "import matplotlib.pyplot as plt\n",
        "import seaborn as sns\n",
        "import random\n",
        "from sklearn.model_selection import train_test_split, ParameterGrid\n",
        "from sklearn.utils import class_weight\n",
        "from sklearn.metrics import classification_report, confusion_matrix, precision_recall_curve\n",
        "from tensorflow.keras import layers\n",
        "\n",
        "# Check tf version\n",
        "print(\"TensorFlow version:\", tf.__version__)\n"
      ]
    },
    {
      "cell_type": "code",
      "execution_count": null,
      "metadata": {
        "id": "VvIEmYbedMZU",
        "colab": {
          "base_uri": "https://localhost:8080/"
        },
        "outputId": "1115ab1c-1648-443e-9f83-507201d1b6cf"
      },
      "outputs": [
        {
          "output_type": "stream",
          "name": "stdout",
          "text": [
            "CSV file loaded successfully.\n",
            "   label                                               text  \\\n",
            "0      1  Timber-Yielding Plants of the Tamaulipan Thorn...   \n",
            "1      1  Restoration: Success and Completion Criteria R...   \n",
            "2      1  Soil Carbon Sequestration: Ethiopia Sequestrat...   \n",
            "3      1  Village Bamboos It has been recognized that ba...   \n",
            "4      1  Physical protection by soil aggregates stabili...   \n",
            "\n",
            "                                        preprocessed  \n",
            "0  plants tamaulipan thorn bioenergy potential cu...  \n",
            "1  success completion criteria restoration distur...  \n",
            "2  soil carbon ethiopia sequestration soil organi...  \n",
            "3  village bamboos recognized bamboos growing wil...  \n",
            "4  physical protection soil aggregates stabilizes...  \n"
          ]
        }
      ],
      "source": [
        "df = pd.read_csv('/content/TAB_new.csv')\n",
        "df.columns = ['label','text', 'preprocessed']\n",
        "assert {'text','label'}.issubset(df.columns), \"CSV must have 'text' and 'label' columns\"\n",
        "print(\"CSV file loaded successfully.\")\n",
        "print(df.head())"
      ]
    },
    {
      "cell_type": "code",
      "execution_count": null,
      "metadata": {
        "id": "vXHTjgQodLXt",
        "colab": {
          "base_uri": "https://localhost:8080/"
        },
        "outputId": "3bb226bf-7e20-4721-af70-de3be30f8904"
      },
      "outputs": [
        {
          "output_type": "stream",
          "name": "stdout",
          "text": [
            "\n",
            "Dataset splits: Train: 6231, Val: 779, Test: 779\n"
          ]
        }
      ],
      "source": [
        "train_df, tmp_df = train_test_split(\n",
        "    df, test_size=0.20, random_state=42, stratify=df['label']\n",
        ")\n",
        "val_df, test_df = train_test_split(\n",
        "    tmp_df, test_size=0.50, random_state=42, stratify=tmp_df['label']\n",
        ")\n",
        "print(f\"\\nDataset splits: Train: {len(train_df)}, Val: {len(val_df)}, Test: {len(test_df)}\")\n"
      ]
    },
    {
      "cell_type": "code",
      "execution_count": null,
      "metadata": {
        "colab": {
          "base_uri": "https://localhost:8080/"
        },
        "id": "U-kYtSlbDKSt",
        "outputId": "7e3e99da-c2de-47c4-e079-f5262294b55d"
      },
      "outputs": [
        {
          "output_type": "stream",
          "name": "stdout",
          "text": [
            "Original 'balanced' class weights: {0: 0.5846312629011071, 1: 3.453991130820399}\n",
            "Manually adjusted class weights for training: {0: 0.5846312629011071, 1: 3.453991130820399}\n"
          ]
        }
      ],
      "source": [
        "# balance weights so that recall isn't super low\n",
        "class_weights_array = class_weight.compute_class_weight(\n",
        "    'balanced',\n",
        "    classes=np.unique(train_df['label']),\n",
        "    y=train_df['label']\n",
        ")\n",
        "class_weights = {i : class_weights_array[i] for i in range(len(class_weights_array))}\n",
        "print(f\"Original 'balanced' class weights: {class_weights}\")\n",
        "\n",
        "print(f\"Manually adjusted class weights for training: {class_weights}\")"
      ]
    },
    {
      "cell_type": "code",
      "execution_count": null,
      "metadata": {
        "id": "mqRbqH5xdFfF",
        "colab": {
          "base_uri": "https://localhost:8080/"
        },
        "outputId": "1cbbbd05-92cb-4871-bea0-73f1ef1dcb1b"
      },
      "outputs": [
        {
          "output_type": "stream",
          "name": "stdout",
          "text": [
            "\n",
            "40 total hyperparameter combinations created for the search.\n"
          ]
        }
      ],
      "source": [
        "param_grid = { # we can change too but these are just prelim stuff\n",
        "    'learning_rate': [2e-5, 1e-5],\n",
        "    'dropout_rate': [0.1, 0.2, 0.3, 0.4, 0.5],\n",
        "    'batch_size': [16, 32]\n",
        "}\n",
        "grid = list(ParameterGrid(param_grid))\n",
        "random.shuffle(grid)\n",
        "print(f\"\\n{len(grid)} total hyperparameter combinations created for the search.\")"
      ]
    },
    {
      "cell_type": "code",
      "execution_count": null,
      "metadata": {
        "id": "ekcWONwmdJEr"
      },
      "outputs": [],
      "source": [
        "AUTOTUNE = tf.data.AUTOTUNE\n",
        "\n",
        "def df_to_dataset(dataframe, batch_size=32, shuffle=True):\n",
        "    \"\"\"Converts a pandas DataFrame to a tf.data.Dataset.\"\"\"\n",
        "    ds = tf.data.Dataset.from_tensor_slices(\n",
        "        (dataframe['text'].values, dataframe['label'].values)\n",
        "    )\n",
        "    if shuffle:\n",
        "        ds = ds.shuffle(buffer_size=len(dataframe))\n",
        "    return ds.batch(batch_size).prefetch(AUTOTUNE)\n",
        "\n",
        "# small bert has 4 encoded layers\n",
        "preprocess_url = \"https://tfhub.dev/tensorflow/bert_en_uncased_preprocess/3\"\n",
        "encoder_url = \"https://tfhub.dev/tensorflow/small_bert/bert_en_uncased_L-4_H-512_A-8/2\"\n",
        "\n",
        "preprocess_model = hub.KerasLayer(preprocess_url, name='preprocessing')\n",
        "encoder_model = hub.KerasLayer(encoder_url, trainable=True, name='BERT_encoder')\n",
        "\n",
        "def build_model(learning_rate, dropout_rate):\n",
        "    \"\"\"Builds and compiles a new BERT model.\"\"\"\n",
        "    text_input = layers.Input(shape=(), dtype=tf.string, name='text')\n",
        "    encoder_inputs = preprocess_model(text_input)\n",
        "    outputs = encoder_model(encoder_inputs)\n",
        "    pooled_output = outputs['pooled_output']\n",
        "    x = layers.Dropout(dropout_rate)(pooled_output)\n",
        "    logits  = layers.Dense(1, activation='sigmoid', name='classifier')(x)\n",
        "\n",
        "    model = tf.keras.Model(inputs=text_input, outputs=logits)\n",
        "    model.compile(\n",
        "        optimizer=tf.keras.optimizers.Adam(learning_rate),\n",
        "        loss=tf.keras.losses.BinaryCrossentropy(),\n",
        "        metrics=[\n",
        "            tf.keras.metrics.BinaryAccuracy(name='accuracy'),\n",
        "            tf.keras.metrics.Precision(name='precision'),\n",
        "            tf.keras.metrics.Recall(name='recall'),\n",
        "        ]\n",
        "    )\n",
        "    return model\n"
      ]
    },
    {
      "cell_type": "code",
      "execution_count": null,
      "metadata": {
        "id": "ni0tQ5zwdCBY",
        "colab": {
          "base_uri": "https://localhost:8080/"
        },
        "outputId": "b06aaa59-523f-43bb-8585-afe72dfd466c"
      },
      "outputs": [
        {
          "output_type": "stream",
          "name": "stdout",
          "text": [
            "\n",
            "Starting hyperparameter sweep. Testing 7 random combinations...\n",
            "Goal: Maximize Precision while keeping Recall >= 0.25\n",
            "\n",
            "==================================================\n",
            "RUN 1/7\n",
            "PARAMS: {'batch_size': 32, 'dropout_rate': 0.4, 'learning_rate': 2e-05}\n",
            "==================================================\n",
            "Epoch 1/10\n",
            "195/195 [==============================] - ETA: 0s - loss: 0.3741 - accuracy: 0.8515 - precision: 0.4623 - recall: 0.1563"
          ]
        },
        {
          "output_type": "stream",
          "name": "stderr",
          "text": [
            "WARNING:absl:Found untraced functions such as _update_step_xla, restored_function_body, restored_function_body, restored_function_body, restored_function_body while saving (showing 5 of 127). These functions will not be directly callable after loading.\n"
          ]
        },
        {
          "output_type": "stream",
          "name": "stdout",
          "text": [
            "\b\b\b\b\b\b\b\b\b\b\b\b\b\b\b\b\b\b\b\b\b\b\b\b\b\b\b\b\b\b\b\b\b\b\b\b\b\b\b\b\b\b\b\b\b\b\b\b\b\b\b\b\b\b\b\b\b\b\b\b\b\b\b\b\b\b\b\b\b\b\b\b\b\b\b\b\b\b\b\b\b\b\b\b\b\b\b\b\b\b\b\b\b\b\b\b\b\b\b\b\b\b\b\b\b\b\b\b\b\b\b\b\b\b\b\b\b\b\b\b\b\r195/195 [==============================] - 218s 1s/step - loss: 0.3741 - accuracy: 0.8515 - precision: 0.4623 - recall: 0.1563 - val_loss: 0.3114 - val_accuracy: 0.8639 - val_precision: 0.6207 - val_recall: 0.1593\n",
            "Epoch 2/10\n",
            "195/195 [==============================] - ETA: 0s - loss: 0.3263 - accuracy: 0.8618 - precision: 0.5421 - recall: 0.2927Restoring model weights from the end of the best epoch: 1.\n",
            "195/195 [==============================] - 205s 1s/step - loss: 0.3263 - accuracy: 0.8618 - precision: 0.5421 - recall: 0.2927 - val_loss: 0.3136 - val_accuracy: 0.8626 - val_precision: 0.6071 - val_recall: 0.1504\n",
            "Epoch 2: early stopping\n",
            "Validation Metrics for this run: Precision: 0.6207, Recall: 0.1593\n",
            "\n",
            "==================================================\n",
            "RUN 2/7\n",
            "PARAMS: {'batch_size': 32, 'dropout_rate': 0.1, 'learning_rate': 1e-05}\n",
            "==================================================\n",
            "Epoch 1/10\n",
            "195/195 [==============================] - ETA: 0s - loss: 0.3304 - accuracy: 0.8565 - precision: 0.5083 - recall: 0.2727"
          ]
        },
        {
          "output_type": "stream",
          "name": "stderr",
          "text": [
            "WARNING:absl:Found untraced functions such as _update_step_xla, restored_function_body, restored_function_body, restored_function_body, restored_function_body while saving (showing 5 of 127). These functions will not be directly callable after loading.\n"
          ]
        },
        {
          "output_type": "stream",
          "name": "stdout",
          "text": [
            "\b\b\b\b\b\b\b\b\b\b\b\b\b\b\b\b\b\b\b\b\b\b\b\b\b\b\b\b\b\b\b\b\b\b\b\b\b\b\b\b\b\b\b\b\b\b\b\b\b\b\b\b\b\b\b\b\b\b\b\b\b\b\b\b\b\b\b\b\b\b\b\b\b\b\b\b\b\b\b\b\b\b\b\b\b\b\b\b\b\b\b\b\b\b\b\b\b\b\b\b\b\b\b\b\b\b\b\b\b\b\b\b\b\b\b\b\b\b\b\b\b\r195/195 [==============================] - 211s 1s/step - loss: 0.3304 - accuracy: 0.8565 - precision: 0.5083 - recall: 0.2727 - val_loss: 0.3184 - val_accuracy: 0.8665 - val_precision: 0.6552 - val_recall: 0.1681\n",
            "Epoch 2/10\n",
            "195/195 [==============================] - ETA: 0s - loss: 0.2863 - accuracy: 0.8731 - precision: 0.5920 - recall: 0.3958Restoring model weights from the end of the best epoch: 1.\n"
          ]
        },
        {
          "output_type": "stream",
          "name": "stderr",
          "text": [
            "WARNING:absl:Found untraced functions such as _update_step_xla, restored_function_body, restored_function_body, restored_function_body, restored_function_body while saving (showing 5 of 127). These functions will not be directly callable after loading.\n"
          ]
        },
        {
          "output_type": "stream",
          "name": "stdout",
          "text": [
            "\b\b\b\b\b\b\b\b\b\b\b\b\b\b\b\b\b\b\b\b\b\b\b\b\b\b\b\b\b\b\b\b\b\b\b\b\b\b\b\b\b\b\b\b\b\b\b\b\b\b\b\b\b\b\b\b\b\b\b\b\b\b\b\b\b\b\b\b\b\b\b\b\b\b\b\b\b\b\b\b\b\b\b\b\b\b\b\b\b\b\b\b\b\b\b\b\b\b\b\b\b\b\b\b\b\b\b\b\b\b\b\b\b\b\b\b\b\b\b\b\b\r195/195 [==============================] - 211s 1s/step - loss: 0.2863 - accuracy: 0.8731 - precision: 0.5920 - recall: 0.3958 - val_loss: 0.3215 - val_accuracy: 0.8588 - val_precision: 0.5176 - val_recall: 0.3894\n",
            "Epoch 2: early stopping\n",
            "Validation Metrics for this run: Precision: 0.6552, Recall: 0.1681\n",
            "\n",
            "==================================================\n",
            "RUN 3/7\n",
            "PARAMS: {'batch_size': 16, 'dropout_rate': 0.5, 'learning_rate': 3e-05}\n",
            "==================================================\n",
            "Epoch 1/10\n",
            "390/390 [==============================] - ETA: 0s - loss: 0.3025 - accuracy: 0.8702 - precision: 0.5820 - recall: 0.3659"
          ]
        },
        {
          "output_type": "stream",
          "name": "stderr",
          "text": [
            "WARNING:absl:Found untraced functions such as _update_step_xla, restored_function_body, restored_function_body, restored_function_body, restored_function_body while saving (showing 5 of 127). These functions will not be directly callable after loading.\n"
          ]
        },
        {
          "output_type": "stream",
          "name": "stdout",
          "text": [
            "\b\b\b\b\b\b\b\b\b\b\b\b\b\b\b\b\b\b\b\b\b\b\b\b\b\b\b\b\b\b\b\b\b\b\b\b\b\b\b\b\b\b\b\b\b\b\b\b\b\b\b\b\b\b\b\b\b\b\b\b\b\b\b\b\b\b\b\b\b\b\b\b\b\b\b\b\b\b\b\b\b\b\b\b\b\b\b\b\b\b\b\b\b\b\b\b\b\b\b\b\b\b\b\b\b\b\b\b\b\b\b\b\b\b\b\b\b\b\b\b\b\r390/390 [==============================] - 230s 589ms/step - loss: 0.3025 - accuracy: 0.8702 - precision: 0.5820 - recall: 0.3659 - val_loss: 0.3204 - val_accuracy: 0.8614 - val_precision: 0.5352 - val_recall: 0.3363\n",
            "Epoch 2/10\n",
            "390/390 [==============================] - ETA: 0s - loss: 0.2530 - accuracy: 0.8925 - precision: 0.6662 - recall: 0.5155Restoring model weights from the end of the best epoch: 1.\n"
          ]
        },
        {
          "output_type": "stream",
          "name": "stderr",
          "text": [
            "WARNING:absl:Found untraced functions such as _update_step_xla, restored_function_body, restored_function_body, restored_function_body, restored_function_body while saving (showing 5 of 127). These functions will not be directly callable after loading.\n"
          ]
        },
        {
          "output_type": "stream",
          "name": "stdout",
          "text": [
            "\b\b\b\b\b\b\b\b\b\b\b\b\b\b\b\b\b\b\b\b\b\b\b\b\b\b\b\b\b\b\b\b\b\b\b\b\b\b\b\b\b\b\b\b\b\b\b\b\b\b\b\b\b\b\b\b\b\b\b\b\b\b\b\b\b\b\b\b\b\b\b\b\b\b\b\b\b\b\b\b\b\b\b\b\b\b\b\b\b\b\b\b\b\b\b\b\b\b\b\b\b\b\b\b\b\b\b\b\b\b\b\b\b\b\b\b\b\b\b\b\b\r390/390 [==============================] - 229s 588ms/step - loss: 0.2530 - accuracy: 0.8925 - precision: 0.6662 - recall: 0.5155 - val_loss: 0.3601 - val_accuracy: 0.8408 - val_precision: 0.4382 - val_recall: 0.3451\n",
            "Epoch 2: early stopping\n",
            "Validation Metrics for this run: Precision: 0.5352, Recall: 0.3363\n",
            "New best model: Val Precision: 0.5352 (Recall: 0.3363)\n",
            "\n",
            "==================================================\n",
            "RUN 4/7\n",
            "PARAMS: {'batch_size': 32, 'dropout_rate': 0.5, 'learning_rate': 2e-05}\n",
            "==================================================\n",
            "Epoch 1/10\n",
            "195/195 [==============================] - ETA: 0s - loss: 0.2343 - accuracy: 0.8949 - precision: 0.6798 - recall: 0.5177"
          ]
        },
        {
          "output_type": "stream",
          "name": "stderr",
          "text": [
            "WARNING:absl:Found untraced functions such as _update_step_xla, restored_function_body, restored_function_body, restored_function_body, restored_function_body while saving (showing 5 of 127). These functions will not be directly callable after loading.\n"
          ]
        },
        {
          "output_type": "stream",
          "name": "stdout",
          "text": [
            "\b\b\b\b\b\b\b\b\b\b\b\b\b\b\b\b\b\b\b\b\b\b\b\b\b\b\b\b\b\b\b\b\b\b\b\b\b\b\b\b\b\b\b\b\b\b\b\b\b\b\b\b\b\b\b\b\b\b\b\b\b\b\b\b\b\b\b\b\b\b\b\b\b\b\b\b\b\b\b\b\b\b\b\b\b\b\b\b\b\b\b\b\b\b\b\b\b\b\b\b\b\b\b\b\b\b\b\b\b\b\b\b\b\b\b\b\b\b\b\b\b\r195/195 [==============================] - 211s 1s/step - loss: 0.2343 - accuracy: 0.8949 - precision: 0.6798 - recall: 0.5177 - val_loss: 0.3520 - val_accuracy: 0.8472 - val_precision: 0.4681 - val_recall: 0.3894\n",
            "Epoch 2/10\n",
            "195/195 [==============================] - 205s 1s/step - loss: 0.1894 - accuracy: 0.9241 - precision: 0.7698 - recall: 0.6785 - val_loss: 0.4895 - val_accuracy: 0.8678 - val_precision: 0.6250 - val_recall: 0.2212\n",
            "Epoch 3/10\n",
            "195/195 [==============================] - 205s 1s/step - loss: 0.1339 - accuracy: 0.9435 - precision: 0.8258 - recall: 0.7727 - val_loss: 0.4718 - val_accuracy: 0.8716 - val_precision: 0.6383 - val_recall: 0.2655\n",
            "Epoch 4/10\n",
            "195/195 [==============================] - ETA: 0s - loss: 0.0991 - accuracy: 0.9623 - precision: 0.8785 - recall: 0.8581Restoring model weights from the end of the best epoch: 3.\n",
            "195/195 [==============================] - 205s 1s/step - loss: 0.0991 - accuracy: 0.9623 - precision: 0.8785 - recall: 0.8581 - val_loss: 0.5329 - val_accuracy: 0.8588 - val_precision: 0.5190 - val_recall: 0.3628\n",
            "Epoch 4: early stopping\n",
            "Validation Metrics for this run: Precision: 0.6383, Recall: 0.2655\n",
            "New best model: Val Precision: 0.6383 (Recall: 0.2655)\n",
            "\n",
            "==================================================\n",
            "RUN 5/7\n",
            "PARAMS: {'batch_size': 32, 'dropout_rate': 0.3, 'learning_rate': 2e-05}\n",
            "==================================================\n",
            "Epoch 1/10\n",
            "195/195 [==============================] - ETA: 0s - loss: 0.1075 - accuracy: 0.9560 - precision: 0.8634 - recall: 0.8271"
          ]
        },
        {
          "output_type": "stream",
          "name": "stderr",
          "text": [
            "WARNING:absl:Found untraced functions such as _update_step_xla, restored_function_body, restored_function_body, restored_function_body, restored_function_body while saving (showing 5 of 127). These functions will not be directly callable after loading.\n"
          ]
        },
        {
          "output_type": "stream",
          "name": "stdout",
          "text": [
            "\b\b\b\b\b\b\b\b\b\b\b\b\b\b\b\b\b\b\b\b\b\b\b\b\b\b\b\b\b\b\b\b\b\b\b\b\b\b\b\b\b\b\b\b\b\b\b\b\b\b\b\b\b\b\b\b\b\b\b\b\b\b\b\b\b\b\b\b\b\b\b\b\b\b\b\b\b\b\b\b\b\b\b\b\b\b\b\b\b\b\b\b\b\b\b\b\b\b\b\b\b\b\b\b\b\b\b\b\b\b\b\b\b\b\b\b\b\b\b\b\b\r195/195 [==============================] - 214s 1s/step - loss: 0.1075 - accuracy: 0.9560 - precision: 0.8634 - recall: 0.8271 - val_loss: 0.5586 - val_accuracy: 0.8652 - val_precision: 0.5769 - val_recall: 0.2655\n",
            "Epoch 2/10\n",
            "195/195 [==============================] - ETA: 0s - loss: 0.0800 - accuracy: 0.9700 - precision: 0.9030 - recall: 0.8880Restoring model weights from the end of the best epoch: 1.\n"
          ]
        },
        {
          "output_type": "stream",
          "name": "stderr",
          "text": [
            "WARNING:absl:Found untraced functions such as _update_step_xla, restored_function_body, restored_function_body, restored_function_body, restored_function_body while saving (showing 5 of 127). These functions will not be directly callable after loading.\n"
          ]
        },
        {
          "output_type": "stream",
          "name": "stdout",
          "text": [
            "\b\b\b\b\b\b\b\b\b\b\b\b\b\b\b\b\b\b\b\b\b\b\b\b\b\b\b\b\b\b\b\b\b\b\b\b\b\b\b\b\b\b\b\b\b\b\b\b\b\b\b\b\b\b\b\b\b\b\b\b\b\b\b\b\b\b\b\b\b\b\b\b\b\b\b\b\b\b\b\b\b\b\b\b\b\b\b\b\b\b\b\b\b\b\b\b\b\b\b\b\b\b\b\b\b\b\b\b\b\b\b\b\b\b\b\b\b\b\b\b\b\r195/195 [==============================] - 211s 1s/step - loss: 0.0800 - accuracy: 0.9700 - precision: 0.9030 - recall: 0.8880 - val_loss: 0.5943 - val_accuracy: 0.8318 - val_precision: 0.4022 - val_recall: 0.3274\n",
            "Epoch 2: early stopping\n",
            "Validation Metrics for this run: Precision: 0.5769, Recall: 0.2655\n",
            "\n",
            "==================================================\n",
            "RUN 6/7\n",
            "PARAMS: {'batch_size': 32, 'dropout_rate': 0.3, 'learning_rate': 3e-05}\n",
            "==================================================\n",
            "Epoch 1/10\n",
            "195/195 [==============================] - ETA: 0s - loss: 0.0739 - accuracy: 0.9730 - precision: 0.9199 - recall: 0.8914"
          ]
        },
        {
          "output_type": "stream",
          "name": "stderr",
          "text": [
            "WARNING:absl:Found untraced functions such as _update_step_xla, restored_function_body, restored_function_body, restored_function_body, restored_function_body while saving (showing 5 of 127). These functions will not be directly callable after loading.\n"
          ]
        },
        {
          "output_type": "stream",
          "name": "stdout",
          "text": [
            "\b\b\b\b\b\b\b\b\b\b\b\b\b\b\b\b\b\b\b\b\b\b\b\b\b\b\b\b\b\b\b\b\b\b\b\b\b\b\b\b\b\b\b\b\b\b\b\b\b\b\b\b\b\b\b\b\b\b\b\b\b\b\b\b\b\b\b\b\b\b\b\b\b\b\b\b\b\b\b\b\b\b\b\b\b\b\b\b\b\b\b\b\b\b\b\b\b\b\b\b\b\b\b\b\b\b\b\b\b\b\b\b\b\b\b\b\b\b\b\b\b\r195/195 [==============================] - 212s 1s/step - loss: 0.0739 - accuracy: 0.9730 - precision: 0.9199 - recall: 0.8914 - val_loss: 0.6003 - val_accuracy: 0.8421 - val_precision: 0.4444 - val_recall: 0.3540\n",
            "Epoch 2/10\n",
            "195/195 [==============================] - 205s 1s/step - loss: 0.0566 - accuracy: 0.9799 - precision: 0.9380 - recall: 0.9224 - val_loss: 0.5806 - val_accuracy: 0.8601 - val_precision: 0.5286 - val_recall: 0.3274\n",
            "Epoch 3/10\n",
            "195/195 [==============================] - ETA: 0s - loss: 0.0409 - accuracy: 0.9852 - precision: 0.9551 - recall: 0.9424Restoring model weights from the end of the best epoch: 2.\n"
          ]
        },
        {
          "output_type": "stream",
          "name": "stderr",
          "text": [
            "WARNING:absl:Found untraced functions such as _update_step_xla, restored_function_body, restored_function_body, restored_function_body, restored_function_body while saving (showing 5 of 127). These functions will not be directly callable after loading.\n"
          ]
        },
        {
          "output_type": "stream",
          "name": "stdout",
          "text": [
            "\b\b\b\b\b\b\b\b\b\b\b\b\b\b\b\b\b\b\b\b\b\b\b\b\b\b\b\b\b\b\b\b\b\b\b\b\b\b\b\b\b\b\b\b\b\b\b\b\b\b\b\b\b\b\b\b\b\b\b\b\b\b\b\b\b\b\b\b\b\b\b\b\b\b\b\b\b\b\b\b\b\b\b\b\b\b\b\b\b\b\b\b\b\b\b\b\b\b\b\b\b\b\b\b\b\b\b\b\b\b\b\b\b\b\b\b\b\b\b\b\b\r195/195 [==============================] - 211s 1s/step - loss: 0.0409 - accuracy: 0.9852 - precision: 0.9551 - recall: 0.9424 - val_loss: 0.6486 - val_accuracy: 0.8549 - val_precision: 0.5000 - val_recall: 0.3717\n",
            "Epoch 3: early stopping\n",
            "Validation Metrics for this run: Precision: 0.5286, Recall: 0.3274\n",
            "\n",
            "==================================================\n",
            "RUN 7/7\n",
            "PARAMS: {'batch_size': 32, 'dropout_rate': 0.3, 'learning_rate': 5e-05}\n",
            "==================================================\n",
            "Epoch 1/10\n",
            "195/195 [==============================] - ETA: 0s - loss: 0.0402 - accuracy: 0.9864 - precision: 0.9564 - recall: 0.9490"
          ]
        },
        {
          "output_type": "stream",
          "name": "stderr",
          "text": [
            "WARNING:absl:Found untraced functions such as _update_step_xla, restored_function_body, restored_function_body, restored_function_body, restored_function_body while saving (showing 5 of 127). These functions will not be directly callable after loading.\n"
          ]
        },
        {
          "output_type": "stream",
          "name": "stdout",
          "text": [
            "\b\b\b\b\b\b\b\b\b\b\b\b\b\b\b\b\b\b\b\b\b\b\b\b\b\b\b\b\b\b\b\b\b\b\b\b\b\b\b\b\b\b\b\b\b\b\b\b\b\b\b\b\b\b\b\b\b\b\b\b\b\b\b\b\b\b\b\b\b\b\b\b\b\b\b\b\b\b\b\b\b\b\b\b\b\b\b\b\b\b\b\b\b\b\b\b\b\b\b\b\b\b\b\b\b\b\b\b\b\b\b\b\b\b\b\b\b\b\b\b\b\r195/195 [==============================] - 211s 1s/step - loss: 0.0402 - accuracy: 0.9864 - precision: 0.9564 - recall: 0.9490 - val_loss: 0.6902 - val_accuracy: 0.8370 - val_precision: 0.4364 - val_recall: 0.4248\n",
            "Epoch 2/10\n",
            "195/195 [==============================] - ETA: 0s - loss: 0.0296 - accuracy: 0.9889 - precision: 0.9664 - recall: 0.9568Restoring model weights from the end of the best epoch: 1.\n",
            "195/195 [==============================] - 204s 1s/step - loss: 0.0296 - accuracy: 0.9889 - precision: 0.9664 - recall: 0.9568 - val_loss: 0.7415 - val_accuracy: 0.8370 - val_precision: 0.4239 - val_recall: 0.3451\n",
            "Epoch 2: early stopping\n",
            "Validation Metrics for this run: Precision: 0.4364, Recall: 0.4248\n"
          ]
        }
      ],
      "source": [
        "results = []\n",
        "best_val_precision = -1\n",
        "best_params = None\n",
        "best_model_path = None\n",
        "\n",
        "# 0.25 recall threshold to allow for higher precision models to be selected.\n",
        "MIN_RECALL_THRESHOLD_SWEEP = 0.25\n",
        "num_searches = 7 # can adjust if the runtime gets better\n",
        "print(f\"\\nStarting hyperparameter sweep. Testing {min(num_searches, len(grid))} random combinations...\")\n",
        "print(f\"Goal: Maximize Precision while keeping Recall >= {MIN_RECALL_THRESHOLD_SWEEP}\")\n",
        "\n",
        "\n",
        "model = build_model(learning_rate=grid[0]['learning_rate'], dropout_rate=grid[0]['dropout_rate'])\n",
        "\n",
        "\n",
        "for i, params in enumerate(grid[:num_searches]):\n",
        "    print(\"\\n\" + \"=\"*50)\n",
        "    print(f\"RUN {i+1}/{min(num_searches, len(grid))}\")\n",
        "    print(f\"PARAMS: {params}\")\n",
        "    print(\"=\"*50)\n",
        "\n",
        "    train_ds = df_to_dataset(train_df, batch_size=params['batch_size'], shuffle=True)\n",
        "    val_ds   = df_to_dataset(val_df, batch_size=params['batch_size'], shuffle=False)\n",
        "    model_path = f\"checkpoint_model_run_{i}\"\n",
        "    # early stopping and checkpoints to save runtime\n",
        "    checkpoint_cb = tf.keras.callbacks.ModelCheckpoint(\n",
        "        filepath=model_path,\n",
        "        monitor='val_recall',\n",
        "        mode='max',\n",
        "        save_best_only=True,\n",
        "        verbose=0\n",
        "    )\n",
        "    early_stop = tf.keras.callbacks.EarlyStopping(\n",
        "        monitor='val_precision', # monitor validation precision\n",
        "        mode='max', # Stop when precision stops increasing\n",
        "        patience=1,\n",
        "        verbose=1,\n",
        "        restore_best_weights=True # restore weights from the best precision epoch\n",
        "    )\n",
        "\n",
        "    history = model.fit(\n",
        "        train_ds,\n",
        "        validation_data=val_ds,\n",
        "        epochs=10,\n",
        "        callbacks=[early_stop, checkpoint_cb],\n",
        "        # class_weight=class_weights, # Removed class weights so precision is better\n",
        "        verbose=1\n",
        "    )\n",
        "\n",
        "    val_loss, val_acc, val_precision, val_recall = model.evaluate(val_ds, verbose=0)\n",
        "    print(f\"Validation Metrics for this run: Precision: {val_precision:.4f}, Recall: {val_recall:.4f}\")\n",
        "\n",
        "    results.append({\n",
        "        'run': i+1,\n",
        "        'val_recall': val_recall,\n",
        "        'val_precision': val_precision,\n",
        "        'params': params,\n",
        "    })\n",
        "\n",
        "    # check if recall passes mark and if precision is highest so far\n",
        "    if val_recall >= MIN_RECALL_THRESHOLD_SWEEP and val_precision > best_val_precision:\n",
        "        best_val_precision = val_precision\n",
        "        best_params = params\n",
        "        best_model_path = model_path\n",
        "        print(f\"New best model: Val Precision: {val_precision:.4f} (Recall: {val_recall:.4f})\")"
      ]
    },
    {
      "cell_type": "code",
      "execution_count": null,
      "metadata": {
        "id": "g8HD-hCldAtu",
        "colab": {
          "base_uri": "https://localhost:8080/"
        },
        "outputId": "9949ad93-e457-4f36-e381-7be5edd4e849"
      },
      "outputs": [
        {
          "output_type": "stream",
          "name": "stdout",
          "text": [
            "HYPERPARAMETER SWEEP COMPLETE\n",
            "Sweep Results Summary (sorted by Precision):\n",
            "   run  val_recall  val_precision  \\\n",
            "1    2    0.168142       0.655172   \n",
            "3    4    0.265487       0.638298   \n",
            "0    1    0.159292       0.620690   \n",
            "4    5    0.265487       0.576923   \n",
            "2    3    0.336283       0.535211   \n",
            "5    6    0.327434       0.528571   \n",
            "6    7    0.424779       0.436364   \n",
            "\n",
            "                                              params  \n",
            "1  {'batch_size': 32, 'dropout_rate': 0.1, 'learn...  \n",
            "3  {'batch_size': 32, 'dropout_rate': 0.5, 'learn...  \n",
            "0  {'batch_size': 32, 'dropout_rate': 0.4, 'learn...  \n",
            "4  {'batch_size': 32, 'dropout_rate': 0.3, 'learn...  \n",
            "2  {'batch_size': 16, 'dropout_rate': 0.5, 'learn...  \n",
            "5  {'batch_size': 32, 'dropout_rate': 0.3, 'learn...  \n",
            "6  {'batch_size': 32, 'dropout_rate': 0.3, 'learn...  \n",
            "\n",
            "Best Model Path: checkpoint_model_run_3\n",
            "Best Parameters: {'batch_size': 32, 'dropout_rate': 0.5, 'learning_rate': 2e-05}\n",
            "Best Validation Precision (with Recall >= 0.25): 0.6383\n"
          ]
        }
      ],
      "source": [
        "print(\"HYPERPARAMETER SWEEP COMPLETE\")\n",
        "results_df = pd.DataFrame(results).sort_values(by='val_precision', ascending=False)\n",
        "print(\"Sweep Results Summary (sorted by Precision):\")\n",
        "print(results_df)\n",
        "\n",
        "if best_params:\n",
        "    print(f\"\\nBest Model Path: {best_model_path}\")\n",
        "    print(f\"Best Parameters: {best_params}\")\n",
        "    print(f\"Best Validation Precision (with Recall >= {MIN_RECALL_THRESHOLD_SWEEP}): {best_val_precision:.4f}\")\n",
        "else:\n",
        "    print(f\"\\nWARNING: No model met the minimum recall threshold of {MIN_RECALL_THRESHOLD_SWEEP}.\")"
      ]
    },
    {
      "cell_type": "code",
      "execution_count": null,
      "metadata": {
        "id": "bqf7KbVJc9Xs",
        "colab": {
          "base_uri": "https://localhost:8080/"
        },
        "outputId": "505ffe7f-f6de-47f1-b08e-e211dc2adedc"
      },
      "outputs": [
        {
          "output_type": "stream",
          "name": "stdout",
          "text": [
            "\n",
            "Loading best model for final evaluation on the test set...\n",
            "Using batch size of 32 for final evaluation.\n",
            "\n",
            "Finding Optimal Threshold to Maximize Precision\n",
            "25/25 [==============================] - 10s 384ms/step\n",
            "Found threshold 0.7269 which gives 0.6977 precision and 0.2655 recall on the validation set.\n",
            "\n",
            "Final Evaluation on Test Set (Threshold: 0.7269)\n",
            "25/25 [==============================] - 10s 387ms/step\n",
            "\n",
            "Classification Report (Test Set):\n",
            "                precision    recall  f1-score   support\n",
            "\n",
            "Irrelevant (0)       0.88      0.96      0.92       666\n",
            "  Relevant (1)       0.53      0.25      0.34       113\n",
            "\n",
            "      accuracy                           0.86       779\n",
            "     macro avg       0.71      0.61      0.63       779\n",
            "  weighted avg       0.83      0.86      0.84       779\n",
            "\n"
          ]
        }
      ],
      "source": [
        "if not best_params:\n",
        "    print(\"Skipping final evaluation because no suitable model was found.\")\n",
        "else:\n",
        "    print(\"\\nLoading best model for final evaluation on the test set...\")\n",
        "    best_model = tf.keras.models.load_model(best_model_path)\n",
        "\n",
        "    # recreate datasets with optimal batch size\n",
        "    print(f\"Using batch size of {best_params['batch_size']} for final evaluation.\")\n",
        "    val_ds = df_to_dataset(val_df, batch_size=best_params['batch_size'], shuffle=False)\n",
        "    test_ds = df_to_dataset(test_df, batch_size=best_params['batch_size'], shuffle=False)\n",
        "\n",
        "    # finding optimal threshold\n",
        "    print(\"\\nFinding Optimal Threshold to Maximize Precision\")\n",
        "    y_val_pred_probs = best_model.predict(val_ds).ravel()\n",
        "    y_val_true = val_df['label'].values\n",
        "    precisions, recalls, thresholds = precision_recall_curve(y_val_true, y_val_pred_probs)\n",
        "\n",
        "    MIN_RECALL_THRESHOLD_FINAL = 0.25\n",
        "\n",
        "    # find all indices where recall is above the threshold\n",
        "    indices = np.where(recalls[:-1] >= MIN_RECALL_THRESHOLD_FINAL)[0]\n",
        "\n",
        "    if len(indices) > 0:\n",
        "        # find highest precision\n",
        "        best_precision_idx_within_recall_threshold = indices[np.argmax(precisions[indices])]\n",
        "        best_threshold = thresholds[best_precision_idx_within_recall_threshold]\n",
        "        print(f\"Found threshold {best_threshold:.4f} which gives {precisions[best_precision_idx_within_recall_threshold]:.4f} precision and {recalls[best_precision_idx_within_recall_threshold]:.4f} recall on the validation set.\")\n",
        "    else:\n",
        "        # if recall threshold isn't met\n",
        "        best_recall_idx = np.argmax(recalls[:-1])\n",
        "        best_threshold = thresholds[min(best_recall_idx, len(thresholds)-1)]\n",
        "        print(f\"Could not meet recall > {MIN_RECALL_THRESHOLD_FINAL}. Using best possible recall threshold: {best_threshold:.4f} (Precision: {precisions[best_recall_idx]:.4f}, Recall: {recalls[best_recall_idx]:.4f})\")\n",
        "\n",
        "    print(f\"\\nFinal Evaluation on Test Set (Threshold: {best_threshold:.4f})\")\n",
        "    y_test_pred_probs = best_model.predict(test_ds).ravel()\n",
        "    y_test_true = test_df['label'].values\n",
        "    y_test_pred_final = (y_test_pred_probs >= best_threshold).astype(int)\n",
        "\n",
        "    print(\"\\nClassification Report (Test Set):\")\n",
        "    print(classification_report(y_test_true, y_test_pred_final, target_names=['Irrelevant (0)', 'Relevant (1)']))\n"
      ]
    },
    {
      "cell_type": "code",
      "execution_count": null,
      "metadata": {
        "id": "DXal45tPc8Hh",
        "colab": {
          "base_uri": "https://localhost:8080/",
          "height": 523
        },
        "outputId": "d0cc7561-77cb-4176-eed0-782653181d82"
      },
      "outputs": [
        {
          "output_type": "stream",
          "name": "stdout",
          "text": [
            "\n",
            "Confusion Matrix (Test Set):\n"
          ]
        },
        {
          "output_type": "display_data",
          "data": {
            "text/plain": [
              "<Figure size 600x500 with 2 Axes>"
            ],
            "image/png": "[encoded data removed]"
          },
          "metadata": {}
        }
      ],
      "source": [
        "if best_params:\n",
        "    print(\"\\nConfusion Matrix (Test Set):\")\n",
        "    cm = confusion_matrix(y_test_true, y_test_pred_final)\n",
        "    plt.figure(figsize=(6,5))\n",
        "    sns.heatmap(cm, annot=True, fmt='d', cmap='Blues', xticklabels=['Irrelevant', 'Relevant'], yticklabels=['Irrelevant', 'Relevant'])\n",
        "    plt.ylabel('Actual')\n",
        "    plt.xlabel('Predicted')\n",
        "    plt.title('Confusion Matrix')\n",
        "    plt.show()"
      ]
    },
    {
      "cell_type": "code",
      "execution_count": null,
      "metadata": {
        "id": "juNMmstqc35D",
        "colab": {
          "base_uri": "https://localhost:8080/",
          "height": 108
        },
        "outputId": "eb516491-05ba-457e-fdad-456402cc46a3"
      },
      "outputs": [
        {
          "output_type": "stream",
          "name": "stderr",
          "text": [
            "WARNING:absl:Found untraced functions such as _update_step_xla, restored_function_body, restored_function_body, restored_function_body, restored_function_body while saving (showing 5 of 127). These functions will not be directly callable after loading.\n"
          ]
        },
        {
          "output_type": "stream",
          "name": "stdout",
          "text": [
            "\n",
            "Best model saved to directory: bert_precision_hyperparam\n",
            "Zipped model created: bert_precision_hyperparam.zip. Starting download...\n"
          ]
        },
        {
          "output_type": "display_data",
          "data": {
            "text/plain": [
              "<IPython.core.display.Javascript object>"
            ],
            "application/javascript": [
              "\n",
              "    async function download(id, filename, size) {\n",
              "      if (!google.colab.kernel.accessAllowed) {\n",
              "        return;\n",
              "      }\n",
              "      const div = document.createElement('div');\n",
              "      const label = document.createElement('label');\n",
              "      label.textContent = `Downloading \"${filename}\": `;\n",
              "      div.appendChild(label);\n",
              "      const progress = document.createElement('progress');\n",
              "      progress.max = size;\n",
              "      div.appendChild(progress);\n",
              "      document.body.appendChild(div);\n",
              "\n",
              "      const buffers = [];\n",
              "      let downloaded = 0;\n",
              "\n",
              "      const channel = await google.colab.kernel.comms.open(id);\n",
              "      // Send a message to notify the kernel that we're ready.\n",
              "      channel.send({})\n",
              "\n",
              "      for await (const message of channel.messages) {\n",
              "        // Send a message to notify the kernel that we're ready.\n",
              "        channel.send({})\n",
              "        if (message.buffers) {\n",
              "          for (const buffer of message.buffers) {\n",
              "            buffers.push(buffer);\n",
              "            downloaded += buffer.byteLength;\n",
              "            progress.value = downloaded;\n",
              "          }\n",
              "        }\n",
              "      }\n",
              "      const blob = new Blob(buffers, {type: 'application/binary'});\n",
              "      const a = document.createElement('a');\n",
              "      a.href = window.URL.createObjectURL(blob);\n",
              "      a.download = filename;\n",
              "      div.appendChild(a);\n",
              "      a.click();\n",
              "      div.remove();\n",
              "    }\n",
              "  "
            ]
          },
          "metadata": {}
        },
        {
          "output_type": "display_data",
          "data": {
            "text/plain": [
              "<IPython.core.display.Javascript object>"
            ],
            "application/javascript": [
              "download(\"download_22aae966-c3e7-441a-a753-536ea8817ba6\", \"bert_precision_hyperparam.zip\", 108433279)"
            ]
          },
          "metadata": {}
        }
      ],
      "source": [
        "if best_params:\n",
        "    # zip and download\n",
        "    from google.colab import files\n",
        "    import shutil\n",
        "\n",
        "    OUTPUT_DIR = 'bert_precision'\n",
        "    best_model.save(OUTPUT_DIR)\n",
        "    print(f\"\\nBest model saved to directory: {OUTPUT_DIR}\")\n",
        "\n",
        "    shutil.make_archive(OUTPUT_DIR, 'zip', OUTPUT_DIR)\n",
        "    print(f\"Zipped model created: {OUTPUT_DIR}.zip. Starting download...\")\n",
        "    files.download(f\"{OUTPUT_DIR}.zip\")"
      ]
    }
  ],
  "metadata": {
    "accelerator": "GPU",
    "colab": {
      "gpuType": "A100",
      "provenance": []
    },
    "kernelspec": {
      "display_name": "Python 3",
      "name": "python3"
    }
  },
  "nbformat": 4,
  "nbformat_minor": 0
}