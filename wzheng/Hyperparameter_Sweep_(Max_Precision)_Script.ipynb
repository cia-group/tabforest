{
  "cells": [
    {
      "cell_type": "code",
      "execution_count": null,
      "metadata": {
        "id": "ioWHJCS4cred"
      },
      "outputs": [],
      "source": [
        "# After installations if the tf version is inconsistent the runtime might crash\n",
        "# If that happens, uncomment the `os.kill` line and run this cell again to restart the runtime, then proceed from the next cell.\n",
        "# import os\n",
        "# os.kill(os.getpid(), 9)\n",
        "\n",
        "# !pip install -q --upgrade --force-reinstall \\\n",
        "#     tensorflow==2.12.1 \\\n",
        "#     tensorflow-hub==0.13.0 \\\n",
        "#     tensorflow-text==2.12.1\n"
      ]
    },
    {
      "cell_type": "code",
      "execution_count": null,
      "metadata": {
        "colab": {
          "base_uri": "https://localhost:8080/"
        },
        "id": "Whq3_F0WdOFx",
        "outputId": "2f5ac6ce-fd11-4e25-9432-a5fa3374eaed"
      },
      "outputs": [
        {
          "name": "stdout",
          "output_type": "stream",
          "text": [
            "TensorFlow version: 2.12.1\n"
          ]
        }
      ],
      "source": [
        "import pandas as pd\n",
        "import numpy as np\n",
        "import tensorflow as tf\n",
        "import tensorflow_hub as hub\n",
        "import tensorflow_text as text\n",
        "import matplotlib.pyplot as plt\n",
        "import seaborn as sns\n",
        "import random\n",
        "from sklearn.model_selection import train_test_split, ParameterGrid\n",
        "from sklearn.utils import class_weight\n",
        "from sklearn.metrics import classification_report, confusion_matrix, precision_recall_curve\n",
        "from tensorflow.keras import layers\n",
        "\n",
        "# Check tf version\n",
        "print(\"TensorFlow version:\", tf.__version__)\n"
      ]
    },
    {
      "cell_type": "code",
      "execution_count": null,
      "metadata": {
        "colab": {
          "base_uri": "https://localhost:8080/"
        },
        "id": "VvIEmYbedMZU",
        "outputId": "ff4543de-5a5b-42d4-e4a8-b16705aa1322"
      },
      "outputs": [
        {
          "name": "stdout",
          "output_type": "stream",
          "text": [
            "CSV file loaded successfully.\n",
            "                                                text  label\n",
            "0  Timber-Yielding Plants of the Tamaulipan Thorn...      1\n",
            "1  Restoration: Success and Completion Criteria R...      1\n",
            "2  Soil Carbon Sequestration: Ethiopia Sequestrat...      1\n",
            "3  Village Bamboos It has been recognized that ba...      1\n",
            "4  Physical protection by soil aggregates stabili...      1\n"
          ]
        }
      ],
      "source": [
        "df = pd.read_csv('/content/TAB_binaryLabel.csv')\n",
        "df.columns = ['text','label']\n",
        "assert {'text','label'}.issubset(df.columns), \"CSV must have 'text' and 'label' columns\"\n",
        "print(\"CSV file loaded successfully.\")\n",
        "print(df.head())"
      ]
    },
    {
      "cell_type": "code",
      "execution_count": null,
      "metadata": {
        "colab": {
          "base_uri": "https://localhost:8080/"
        },
        "id": "vXHTjgQodLXt",
        "outputId": "6bca9cc7-6d95-4782-8001-9f09bdddabec"
      },
      "outputs": [
        {
          "name": "stdout",
          "output_type": "stream",
          "text": [
            "\n",
            "Dataset splits: Train: 6180, Val: 772, Test: 773\n"
          ]
        }
      ],
      "source": [
        "train_df, tmp_df = train_test_split(\n",
        "    df, test_size=0.20, random_state=42, stratify=df['label']\n",
        ")\n",
        "val_df, test_df = train_test_split(\n",
        "    tmp_df, test_size=0.50, random_state=42, stratify=tmp_df['label']\n",
        ")\n",
        "print(f\"\\nDataset splits: Train: {len(train_df)}, Val: {len(val_df)}, Test: {len(test_df)}\")\n"
      ]
    },
    {
      "cell_type": "code",
      "execution_count": null,
      "metadata": {
        "colab": {
          "base_uri": "https://localhost:8080/"
        },
        "id": "QhujXqfRdKW3",
        "outputId": "5eb88df8-4433-4e06-a1a6-69ef34f05012"
      },
      "outputs": [
        {
          "name": "stdout",
          "output_type": "stream",
          "text": [
            "\n",
            "Calculated Class Weights to counter imbalance:\n",
            "{0: 0.553069625917308, 1: 5.21079258010118}\n"
          ]
        }
      ],
      "source": [
        "class_weights_array = class_weight.compute_class_weight(\n",
        "    'balanced',\n",
        "    classes=np.unique(train_df['label']),\n",
        "    y=train_df['label']\n",
        ")\n",
        "class_weights = {i : class_weights_array[i] for i in range(len(class_weights_array))}\n",
        "print(\"\\nCalculated Class Weights to counter imbalance:\")\n",
        "print(class_weights)"
      ]
    },
    {
      "cell_type": "code",
      "execution_count": null,
      "metadata": {
        "colab": {
          "base_uri": "https://localhost:8080/"
        },
        "id": "mqRbqH5xdFfF",
        "outputId": "885493ef-ca68-44b0-edd5-6366c085f330"
      },
      "outputs": [
        {
          "name": "stdout",
          "output_type": "stream",
          "text": [
            "\n",
            "40 total hyperparameter combinations created for the search.\n"
          ]
        }
      ],
      "source": [
        "param_grid = { # we can change too but these are just prelim stuff\n",
        "    'learning_rate': [5e-5, 3e-5, 2e-5, 1e-5],\n",
        "    'dropout_rate': [0.1, 0.2, 0.3, 0.4, 0.5],\n",
        "    'batch_size': [16, 32]\n",
        "}\n",
        "grid = list(ParameterGrid(param_grid))\n",
        "random.shuffle(grid)\n",
        "print(f\"\\n{len(grid)} total hyperparameter combinations created for the search.\")"
      ]
    },
    {
      "cell_type": "code",
      "execution_count": null,
      "metadata": {
        "id": "ekcWONwmdJEr"
      },
      "outputs": [],
      "source": [
        "AUTOTUNE = tf.data.AUTOTUNE\n",
        "\n",
        "def df_to_dataset(dataframe, batch_size=32, shuffle=True):\n",
        "    \"\"\"Converts a pandas DataFrame to a tf.data.Dataset.\"\"\"\n",
        "    ds = tf.data.Dataset.from_tensor_slices(\n",
        "        (dataframe['text'].values, dataframe['label'].values)\n",
        "    )\n",
        "    if shuffle:\n",
        "        ds = ds.shuffle(buffer_size=len(dataframe))\n",
        "    return ds.batch(batch_size).prefetch(AUTOTUNE)\n",
        "\n",
        "# small bert has 4 encoded layers\n",
        "preprocess_url = \"https://tfhub.dev/tensorflow/bert_en_uncased_preprocess/3\"\n",
        "encoder_url = \"https://tfhub.dev/tensorflow/small_bert/bert_en_uncased_L-4_H-512_A-8/2\"\n",
        "\n",
        "preprocess_model = hub.KerasLayer(preprocess_url, name='preprocessing')\n",
        "encoder_model = hub.KerasLayer(encoder_url, trainable=True, name='BERT_encoder')\n",
        "\n",
        "def build_model(learning_rate, dropout_rate):\n",
        "    \"\"\"Builds and compiles a new BERT model.\"\"\"\n",
        "    text_input = layers.Input(shape=(), dtype=tf.string, name='text')\n",
        "    encoder_inputs = preprocess_model(text_input)\n",
        "    outputs = encoder_model(encoder_inputs)\n",
        "    pooled_output = outputs['pooled_output']\n",
        "    x = layers.Dropout(dropout_rate)(pooled_output)\n",
        "    logits  = layers.Dense(1, activation='sigmoid', name='classifier')(x)\n",
        "\n",
        "    model = tf.keras.Model(inputs=text_input, outputs=logits)\n",
        "    model.compile(\n",
        "        optimizer=tf.keras.optimizers.Adam(learning_rate),\n",
        "        loss=tf.keras.losses.BinaryCrossentropy(),\n",
        "        metrics=[\n",
        "            tf.keras.metrics.BinaryAccuracy(name='accuracy'),\n",
        "            tf.keras.metrics.Precision(name='precision'),\n",
        "            tf.keras.metrics.Recall(name='recall'),\n",
        "        ]\n",
        "    )\n",
        "    return model\n"
      ]
    },
    {
      "cell_type": "code",
      "execution_count": null,
      "metadata": {
        "colab": {
          "background_save": true,
          "base_uri": "https://localhost:8080/"
        },
        "id": "ni0tQ5zwdCBY",
        "outputId": "7b8e642d-5eb5-4c84-be55-2979aa2a0395"
      },
      "outputs": [
        {
          "name": "stdout",
          "output_type": "stream",
          "text": [
            "\n",
            "Starting hyperparameter sweep. Testing 10 random combinations...\n",
            "Maximize Precision while keeping Recall >= 0.7\n",
            "\n",
            "==================================================\n",
            "RUN 1/10\n",
            "PARAMS: {'batch_size': 16, 'dropout_rate': 0.4, 'learning_rate': 3e-05}\n",
            "==================================================\n",
            "Epoch 1/10\n",
            "387/387 [==============================] - ETA: 0s - loss: 0.7015 - accuracy: 0.5895 - precision: 0.1343 - recall: 0.6020"
          ]
        },
        {
          "name": "stderr",
          "output_type": "stream",
          "text": [
            "WARNING:absl:Found untraced functions such as _update_step_xla, restored_function_body, restored_function_body, restored_function_body, restored_function_body while saving (showing 5 of 127). These functions will not be directly callable after loading.\n"
          ]
        },
        {
          "name": "stdout",
          "output_type": "stream",
          "text": [
            "387/387 [==============================] - 238s 591ms/step - loss: 0.7015 - accuracy: 0.5895 - precision: 0.1343 - recall: 0.6020 - val_loss: 0.5562 - val_accuracy: 0.7047 - val_precision: 0.2105 - val_recall: 0.7568\n",
            "Epoch 2/10\n",
            "387/387 [==============================] - ETA: 0s - loss: 0.5635 - accuracy: 0.7167 - precision: 0.2139 - recall: 0.7302"
          ]
        },
        {
          "name": "stderr",
          "output_type": "stream",
          "text": [
            "WARNING:absl:Found untraced functions such as _update_step_xla, restored_function_body, restored_function_body, restored_function_body, restored_function_body while saving (showing 5 of 127). These functions will not be directly callable after loading.\n"
          ]
        },
        {
          "name": "stdout",
          "output_type": "stream",
          "text": [
            "387/387 [==============================] - 226s 584ms/step - loss: 0.5635 - accuracy: 0.7167 - precision: 0.2139 - recall: 0.7302 - val_loss: 1.0404 - val_accuracy: 0.4611 - val_precision: 0.1481 - val_recall: 0.9730\n",
            "Epoch 3/10\n",
            "387/387 [==============================] - ETA: 0s - loss: 0.4390 - accuracy: 0.7764 - precision: 0.2785 - recall: 0.8364Restoring model weights from the end of the best epoch: 2.\n",
            "387/387 [==============================] - 219s 566ms/step - loss: 0.4390 - accuracy: 0.7764 - precision: 0.2785 - recall: 0.8364 - val_loss: 0.4712 - val_accuracy: 0.7578 - val_precision: 0.2420 - val_recall: 0.7162\n",
            "Epoch 3: early stopping\n",
            "Validation Metrics for this run: Precision: 0.1481, Recall: 0.9730\n",
            "New best model: Val Precision: 0.1481 (Recall: 0.9730)\n",
            "\n",
            "==================================================\n",
            "RUN 2/10\n",
            "PARAMS: {'batch_size': 32, 'dropout_rate': 0.5, 'learning_rate': 5e-05}\n",
            "==================================================\n",
            "Epoch 1/10\n",
            "194/194 [==============================] - ETA: 0s - loss: 0.5161 - accuracy: 0.7497 - precision: 0.2435 - recall: 0.7639"
          ]
        },
        {
          "name": "stderr",
          "output_type": "stream",
          "text": [
            "WARNING:absl:Found untraced functions such as _update_step_xla, restored_function_body, restored_function_body, restored_function_body, restored_function_body while saving (showing 5 of 127). These functions will not be directly callable after loading.\n"
          ]
        },
        {
          "name": "stdout",
          "output_type": "stream",
          "text": [
            "194/194 [==============================] - 214s 1s/step - loss: 0.5161 - accuracy: 0.7497 - precision: 0.2435 - recall: 0.7639 - val_loss: 0.6580 - val_accuracy: 0.6710 - val_precision: 0.2020 - val_recall: 0.8243\n",
            "Epoch 2/10\n",
            "194/194 [==============================] - ETA: 0s - loss: 0.3815 - accuracy: 0.8168 - precision: 0.3291 - recall: 0.8752Restoring model weights from the end of the best epoch: 1.\n",
            "194/194 [==============================] - 202s 1s/step - loss: 0.3815 - accuracy: 0.8168 - precision: 0.3291 - recall: 0.8752 - val_loss: 0.5876 - val_accuracy: 0.7215 - val_precision: 0.2257 - val_recall: 0.7838\n",
            "Epoch 2: early stopping\n",
            "Validation Metrics for this run: Precision: 0.2020, Recall: 0.8243\n",
            "New best model: Val Precision: 0.2020 (Recall: 0.8243)\n",
            "\n",
            "==================================================\n",
            "RUN 3/10\n",
            "PARAMS: {'batch_size': 32, 'dropout_rate': 0.5, 'learning_rate': 2e-05}\n",
            "==================================================\n",
            "Epoch 1/10\n",
            "194/194 [==============================] - ETA: 0s - loss: 0.3839 - accuracy: 0.8215 - precision: 0.3329 - recall: 0.8567"
          ]
        },
        {
          "name": "stderr",
          "output_type": "stream",
          "text": [
            "WARNING:absl:Found untraced functions such as _update_step_xla, restored_function_body, restored_function_body, restored_function_body, restored_function_body while saving (showing 5 of 127). These functions will not be directly callable after loading.\n"
          ]
        },
        {
          "name": "stdout",
          "output_type": "stream",
          "text": [
            "194/194 [==============================] - 215s 1s/step - loss: 0.3839 - accuracy: 0.8215 - precision: 0.3329 - recall: 0.8567 - val_loss: 0.4044 - val_accuracy: 0.8277 - val_precision: 0.2908 - val_recall: 0.5541\n",
            "Epoch 2/10\n",
            "194/194 [==============================] - ETA: 0s - loss: 0.2639 - accuracy: 0.8772 - precision: 0.4351 - recall: 0.9376Restoring model weights from the end of the best epoch: 1.\n",
            "194/194 [==============================] - 201s 1s/step - loss: 0.2639 - accuracy: 0.8772 - precision: 0.4351 - recall: 0.9376 - val_loss: 0.4270 - val_accuracy: 0.8653 - val_precision: 0.3529 - val_recall: 0.4865\n",
            "Epoch 2: early stopping\n",
            "Validation Metrics for this run: Precision: 0.2908, Recall: 0.5541\n",
            "\n",
            "==================================================\n",
            "RUN 4/10\n",
            "PARAMS: {'batch_size': 32, 'dropout_rate': 0.4, 'learning_rate': 2e-05}\n",
            "==================================================\n",
            "Epoch 1/10\n",
            "194/194 [==============================] - ETA: 0s - loss: 0.2975 - accuracy: 0.8570 - precision: 0.3943 - recall: 0.9157"
          ]
        },
        {
          "name": "stderr",
          "output_type": "stream",
          "text": [
            "WARNING:absl:Found untraced functions such as _update_step_xla, restored_function_body, restored_function_body, restored_function_body, restored_function_body while saving (showing 5 of 127). These functions will not be directly callable after loading.\n"
          ]
        },
        {
          "name": "stdout",
          "output_type": "stream",
          "text": [
            "194/194 [==============================] - 215s 1s/step - loss: 0.2975 - accuracy: 0.8570 - precision: 0.3943 - recall: 0.9157 - val_loss: 0.4412 - val_accuracy: 0.8251 - val_precision: 0.2953 - val_recall: 0.5946\n",
            "Epoch 2/10\n",
            "194/194 [==============================] - ETA: 0s - loss: 0.2096 - accuracy: 0.9045 - precision: 0.5013 - recall: 0.9562Restoring model weights from the end of the best epoch: 1.\n",
            "194/194 [==============================] - 201s 1s/step - loss: 0.2096 - accuracy: 0.9045 - precision: 0.5013 - recall: 0.9562 - val_loss: 0.4472 - val_accuracy: 0.8407 - val_precision: 0.3040 - val_recall: 0.5135\n",
            "Epoch 2: early stopping\n",
            "Validation Metrics for this run: Precision: 0.2953, Recall: 0.5946\n",
            "\n",
            "==================================================\n",
            "RUN 5/10\n",
            "PARAMS: {'batch_size': 32, 'dropout_rate': 0.4, 'learning_rate': 1e-05}\n",
            "==================================================\n",
            "Epoch 1/10\n",
            "194/194 [==============================] - ETA: 0s - loss: 0.2350 - accuracy: 0.8875 - precision: 0.4589 - recall: 0.9595"
          ]
        },
        {
          "name": "stderr",
          "output_type": "stream",
          "text": [
            "WARNING:absl:Found untraced functions such as _update_step_xla, restored_function_body, restored_function_body, restored_function_body, restored_function_body while saving (showing 5 of 127). These functions will not be directly callable after loading.\n"
          ]
        },
        {
          "name": "stdout",
          "output_type": "stream",
          "text": [
            "194/194 [==============================] - 214s 1s/step - loss: 0.2350 - accuracy: 0.8875 - precision: 0.4589 - recall: 0.9595 - val_loss: 0.4251 - val_accuracy: 0.8614 - val_precision: 0.3540 - val_recall: 0.5405\n",
            "Epoch 2/10\n",
            "194/194 [==============================] - ETA: 0s - loss: 0.1593 - accuracy: 0.9280 - precision: 0.5740 - recall: 0.9680Restoring model weights from the end of the best epoch: 1.\n",
            "194/194 [==============================] - 202s 1s/step - loss: 0.1593 - accuracy: 0.9280 - precision: 0.5740 - recall: 0.9680 - val_loss: 0.4426 - val_accuracy: 0.8744 - val_precision: 0.3763 - val_recall: 0.4730\n",
            "Epoch 2: early stopping\n",
            "Validation Metrics for this run: Precision: 0.3540, Recall: 0.5405\n",
            "\n",
            "==================================================\n",
            "RUN 6/10\n",
            "PARAMS: {'batch_size': 32, 'dropout_rate': 0.5, 'learning_rate': 3e-05}\n",
            "==================================================\n",
            "Epoch 1/10\n",
            "194/194 [==============================] - ETA: 0s - loss: 0.2192 - accuracy: 0.9061 - precision: 0.5058 - recall: 0.9511"
          ]
        },
        {
          "name": "stderr",
          "output_type": "stream",
          "text": [
            "WARNING:absl:Found untraced functions such as _update_step_xla, restored_function_body, restored_function_body, restored_function_body, restored_function_body while saving (showing 5 of 127). These functions will not be directly callable after loading.\n"
          ]
        },
        {
          "name": "stdout",
          "output_type": "stream",
          "text": [
            "194/194 [==============================] - 215s 1s/step - loss: 0.2192 - accuracy: 0.9061 - precision: 0.5058 - recall: 0.9511 - val_loss: 0.4907 - val_accuracy: 0.8446 - val_precision: 0.3231 - val_recall: 0.5676\n",
            "Epoch 2/10\n",
            "194/194 [==============================] - ETA: 0s - loss: 0.2032 - accuracy: 0.9039 - precision: 0.4996 - recall: 0.9477Restoring model weights from the end of the best epoch: 1.\n",
            "194/194 [==============================] - 202s 1s/step - loss: 0.2032 - accuracy: 0.9039 - precision: 0.4996 - recall: 0.9477 - val_loss: 0.5366 - val_accuracy: 0.8407 - val_precision: 0.3158 - val_recall: 0.5676\n",
            "Epoch 2: early stopping\n",
            "Validation Metrics for this run: Precision: 0.3231, Recall: 0.5676\n",
            "\n",
            "==================================================\n",
            "RUN 7/10\n",
            "PARAMS: {'batch_size': 32, 'dropout_rate': 0.2, 'learning_rate': 1e-05}\n",
            "==================================================\n",
            "Epoch 1/10\n",
            "194/194 [==============================] - ETA: 0s - loss: 0.1637 - accuracy: 0.9346 - precision: 0.5990 - recall: 0.9646"
          ]
        },
        {
          "name": "stderr",
          "output_type": "stream",
          "text": [
            "WARNING:absl:Found untraced functions such as _update_step_xla, restored_function_body, restored_function_body, restored_function_body, restored_function_body while saving (showing 5 of 127). These functions will not be directly callable after loading.\n"
          ]
        },
        {
          "name": "stdout",
          "output_type": "stream",
          "text": [
            "194/194 [==============================] - 214s 1s/step - loss: 0.1637 - accuracy: 0.9346 - precision: 0.5990 - recall: 0.9646 - val_loss: 0.4920 - val_accuracy: 0.8536 - val_precision: 0.3388 - val_recall: 0.5541\n",
            "Epoch 2/10\n",
            "194/194 [==============================] - ETA: 0s - loss: 0.1081 - accuracy: 0.9510 - precision: 0.6655 - recall: 0.9831Restoring model weights from the end of the best epoch: 1.\n",
            "194/194 [==============================] - 201s 1s/step - loss: 0.1081 - accuracy: 0.9510 - precision: 0.6655 - recall: 0.9831 - val_loss: 0.4491 - val_accuracy: 0.8847 - val_precision: 0.4000 - val_recall: 0.4054\n",
            "Epoch 2: early stopping\n",
            "Validation Metrics for this run: Precision: 0.3388, Recall: 0.5541\n",
            "\n",
            "==================================================\n",
            "RUN 8/10\n",
            "PARAMS: {'batch_size': 16, 'dropout_rate': 0.3, 'learning_rate': 1e-05}\n",
            "==================================================\n",
            "Epoch 1/10\n",
            "387/387 [==============================] - ETA: 0s - loss: 0.1352 - accuracy: 0.9432 - precision: 0.6321 - recall: 0.9764"
          ]
        },
        {
          "name": "stderr",
          "output_type": "stream",
          "text": [
            "WARNING:absl:Found untraced functions such as _update_step_xla, restored_function_body, restored_function_body, restored_function_body, restored_function_body while saving (showing 5 of 127). These functions will not be directly callable after loading.\n"
          ]
        },
        {
          "name": "stdout",
          "output_type": "stream",
          "text": [
            "387/387 [==============================] - 231s 580ms/step - loss: 0.1352 - accuracy: 0.9432 - precision: 0.6321 - recall: 0.9764 - val_loss: 0.5133 - val_accuracy: 0.8601 - val_precision: 0.3426 - val_recall: 0.5000\n",
            "Epoch 2/10\n",
            "387/387 [==============================] - ETA: 0s - loss: 0.0873 - accuracy: 0.9626 - precision: 0.7246 - recall: 0.9848Restoring model weights from the end of the best epoch: 1.\n",
            "387/387 [==============================] - 218s 564ms/step - loss: 0.0873 - accuracy: 0.9626 - precision: 0.7246 - recall: 0.9848 - val_loss: 0.5086 - val_accuracy: 0.8808 - val_precision: 0.3594 - val_recall: 0.3108\n",
            "Epoch 2: early stopping\n",
            "Validation Metrics for this run: Precision: 0.3426, Recall: 0.5000\n",
            "\n",
            "==================================================\n",
            "RUN 9/10\n",
            "PARAMS: {'batch_size': 16, 'dropout_rate': 0.4, 'learning_rate': 5e-05}\n",
            "==================================================\n",
            "Epoch 1/10\n",
            "387/387 [==============================] - ETA: 0s - loss: 0.2276 - accuracy: 0.8997 - precision: 0.4882 - recall: 0.9410"
          ]
        },
        {
          "name": "stderr",
          "output_type": "stream",
          "text": [
            "WARNING:absl:Found untraced functions such as _update_step_xla, restored_function_body, restored_function_body, restored_function_body, restored_function_body while saving (showing 5 of 127). These functions will not be directly callable after loading.\n"
          ]
        },
        {
          "name": "stdout",
          "output_type": "stream",
          "text": [
            "387/387 [==============================] - 232s 581ms/step - loss: 0.2276 - accuracy: 0.8997 - precision: 0.4882 - recall: 0.9410 - val_loss: 1.0624 - val_accuracy: 0.7047 - val_precision: 0.2105 - val_recall: 0.7568\n",
            "Epoch 2/10\n",
            "387/387 [==============================] - ETA: 0s - loss: 0.2027 - accuracy: 0.9092 - precision: 0.5147 - recall: 0.9444Restoring model weights from the end of the best epoch: 1.\n",
            "387/387 [==============================] - 219s 565ms/step - loss: 0.2027 - accuracy: 0.9092 - precision: 0.5147 - recall: 0.9444 - val_loss: 0.4788 - val_accuracy: 0.8135 - val_precision: 0.2697 - val_recall: 0.5541\n",
            "Epoch 2: early stopping\n",
            "Validation Metrics for this run: Precision: 0.2105, Recall: 0.7568\n",
            "New best model: Val Precision: 0.2105 (Recall: 0.7568)\n",
            "\n",
            "==================================================\n",
            "RUN 10/10\n",
            "PARAMS: {'batch_size': 16, 'dropout_rate': 0.5, 'learning_rate': 3e-05}\n",
            "==================================================\n",
            "Epoch 1/10\n",
            "387/387 [==============================] - ETA: 0s - loss: 0.2245 - accuracy: 0.9083 - precision: 0.5122 - recall: 0.9224"
          ]
        },
        {
          "name": "stderr",
          "output_type": "stream",
          "text": [
            "WARNING:absl:Found untraced functions such as _update_step_xla, restored_function_body, restored_function_body, restored_function_body, restored_function_body while saving (showing 5 of 127). These functions will not be directly callable after loading.\n"
          ]
        },
        {
          "name": "stdout",
          "output_type": "stream",
          "text": [
            "387/387 [==============================] - 232s 584ms/step - loss: 0.2245 - accuracy: 0.9083 - precision: 0.5122 - recall: 0.9224 - val_loss: 0.5891 - val_accuracy: 0.8264 - val_precision: 0.2761 - val_recall: 0.5000\n",
            "Epoch 2/10\n",
            "387/387 [==============================] - ETA: 0s - loss: 0.1316 - accuracy: 0.9466 - precision: 0.6479 - recall: 0.9713Restoring model weights from the end of the best epoch: 1.\n",
            "387/387 [==============================] - 219s 565ms/step - loss: 0.1316 - accuracy: 0.9466 - precision: 0.6479 - recall: 0.9713 - val_loss: 0.4729 - val_accuracy: 0.8821 - val_precision: 0.3768 - val_recall: 0.3514\n",
            "Epoch 2: early stopping\n",
            "Validation Metrics for this run: Precision: 0.2761, Recall: 0.5000\n"
          ]
        }
      ],
      "source": [
        "results = []\n",
        "best_val_precision = -1\n",
        "best_params = None\n",
        "best_model_path = None\n",
        "\n",
        "MIN_RECALL_THRESHOLD_SWEEP = 0.7 # I think we still want a somewhat solid recal\n",
        "num_searches = 10 # can adjust if the runtime gets better\n",
        "print(f\"\\nStarting hyperparameter sweep. Testing {min(num_searches, len(grid))} random combinations...\")\n",
        "print(f\"Maximize Precision while keeping Recall >= {MIN_RECALL_THRESHOLD_SWEEP}\")\n",
        "\n",
        "for i, params in enumerate(grid[:num_searches]):\n",
        "    print(\"\\n\" + \"=\"*50)\n",
        "    print(f\"RUN {i+1}/{min(num_searches, len(grid))}\")\n",
        "    print(f\"PARAMS: {params}\")\n",
        "    print(\"=\"*50)\n",
        "\n",
        "    train_ds = df_to_dataset(train_df, batch_size=params['batch_size'], shuffle=True)\n",
        "    val_ds   = df_to_dataset(val_df, batch_size=params['batch_size'], shuffle=False)\n",
        "    model = build_model(learning_rate=params['learning_rate'], dropout_rate=params['dropout_rate'])\n",
        "    model_path = f\"checkpoint_model_run_{i}\"\n",
        "    # early stopping and checkpoints to save runtime\n",
        "    checkpoint_cb = tf.keras.callbacks.ModelCheckpoint(\n",
        "        filepath=model_path,\n",
        "        monitor='val_recall',\n",
        "        mode='max',\n",
        "        save_best_only=True,\n",
        "        verbose=0\n",
        "    )\n",
        "    early_stop = tf.keras.callbacks.EarlyStopping(\n",
        "        monitor='val_recall',\n",
        "        mode='max',\n",
        "        patience=1, # right now waiting 2 epochs hasn't helped so decreased to 1\n",
        "        verbose=1,\n",
        "        restore_best_weights=True\n",
        "    )\n",
        "\n",
        "    history = model.fit(\n",
        "        train_ds,\n",
        "        validation_data=val_ds,\n",
        "        epochs=10,\n",
        "        callbacks=[early_stop, checkpoint_cb],\n",
        "        class_weight=class_weights,\n",
        "        verbose=1\n",
        "    )\n",
        "\n",
        "    val_loss, val_acc, val_precision, val_recall = model.evaluate(val_ds, verbose=0)\n",
        "    print(f\"Validation Metrics for this run: Precision: {val_precision:.4f}, Recall: {val_recall:.4f}\")\n",
        "\n",
        "    results.append({\n",
        "        'run': i+1,\n",
        "        'val_recall': val_recall,\n",
        "        'val_precision': val_precision,\n",
        "        'params': params,\n",
        "    })\n",
        "\n",
        "    # check if recall passes mark and if precision is highest so far\n",
        "    if val_recall >= MIN_RECALL_THRESHOLD_SWEEP and val_precision > best_val_precision:\n",
        "        best_val_precision = val_precision\n",
        "        best_params = params\n",
        "        best_model_path = model_path\n",
        "        print(f\"New best model: Val Precision: {val_precision:.4f} (Recall: {val_recall:.4f})\")\n",
        "\n",
        "\n"
      ]
    },
    {
      "cell_type": "code",
      "execution_count": null,
      "metadata": {
        "colab": {
          "background_save": true,
          "base_uri": "https://localhost:8080/"
        },
        "id": "g8HD-hCldAtu",
        "outputId": "26342853-c197-4fb1-8773-f6cdb0874eea"
      },
      "outputs": [
        {
          "name": "stdout",
          "output_type": "stream",
          "text": [
            "HYPERPARAMETER SWEEP COMPLETE\n",
            "Sweep Results Summary (sorted by Precision):\n",
            "   run  val_recall  val_precision  \\\n",
            "4    5    0.540541       0.353982   \n",
            "7    8    0.500000       0.342593   \n",
            "6    7    0.554054       0.338843   \n",
            "5    6    0.567568       0.323077   \n",
            "3    4    0.594595       0.295302   \n",
            "2    3    0.554054       0.290780   \n",
            "9   10    0.500000       0.276119   \n",
            "8    9    0.756757       0.210526   \n",
            "1    2    0.824324       0.201987   \n",
            "0    1    0.972973       0.148148   \n",
            "\n",
            "                                              params  \n",
            "4  {'batch_size': 32, 'dropout_rate': 0.4, 'learn...  \n",
            "7  {'batch_size': 16, 'dropout_rate': 0.3, 'learn...  \n",
            "6  {'batch_size': 32, 'dropout_rate': 0.2, 'learn...  \n",
            "5  {'batch_size': 32, 'dropout_rate': 0.5, 'learn...  \n",
            "3  {'batch_size': 32, 'dropout_rate': 0.4, 'learn...  \n",
            "2  {'batch_size': 32, 'dropout_rate': 0.5, 'learn...  \n",
            "9  {'batch_size': 16, 'dropout_rate': 0.5, 'learn...  \n",
            "8  {'batch_size': 16, 'dropout_rate': 0.4, 'learn...  \n",
            "1  {'batch_size': 32, 'dropout_rate': 0.5, 'learn...  \n",
            "0  {'batch_size': 16, 'dropout_rate': 0.4, 'learn...  \n",
            "\n",
            "Best Model Path: checkpoint_model_run_8\n",
            "Best Parameters: {'batch_size': 16, 'dropout_rate': 0.4, 'learning_rate': 5e-05}\n",
            "Best Validation Precision (with Recall >= 0.7): 0.2105\n"
          ]
        }
      ],
      "source": [
        "print(\"HYPERPARAMETER SWEEP COMPLETE\")\n",
        "results_df = pd.DataFrame(results).sort_values(by='val_precision', ascending=False)\n",
        "print(\"Sweep Results Summary (sorted by Precision):\")\n",
        "print(results_df)\n",
        "\n",
        "if best_params:\n",
        "    print(f\"\\nBest Model Path: {best_model_path}\")\n",
        "    print(f\"Best Parameters: {best_params}\")\n",
        "    print(f\"Best Validation Precision (with Recall >= {MIN_RECALL_THRESHOLD_SWEEP}): {best_val_precision:.4f}\")\n",
        "else:\n",
        "    print(f\"\\nNo model met the minimum recall threshold of {MIN_RECALL_THRESHOLD_SWEEP}.\") # it really should be more than .7 bc we alr had a model with .86\n",
        "    print(f\"\\nBest Model Path: {best_model_path}\")\n",
        "    print(f\"Best Parameters: {best_params}\")\n",
        "    print(f\"Best Validation Precision (with Recall >= {MIN_RECALL_THRESHOLD_SWEEP}): {best_val_precision:.4f}\")\n",
        "\n"
      ]
    },
    {
      "cell_type": "code",
      "execution_count": null,
      "metadata": {
        "colab": {
          "base_uri": "https://localhost:8080/"
        },
        "id": "bqf7KbVJc9Xs",
        "outputId": "d21497b5-344e-43e8-a677-4049221f6a4e"
      },
      "outputs": [
        {
          "name": "stdout",
          "output_type": "stream",
          "text": [
            "\n",
            "Loading best model for final evaluation on the test set...\n"
          ]
        }
      ],
      "source": [
        "print(\"\\nLoading best model for final evaluation on the test set...\")\n",
        "best_model = tf.keras.models.load_model(best_model_path)\n",
        "\n",
        "# recreate  datasets with optimal batch size\n",
        "print(f\"Using batch size of {best_params['batch_size']} for final evaluation.\")\n",
        "val_ds = df_to_dataset(val_df, batch_size=best_params['batch_size'], shuffle=False)\n",
        "test_ds = df_to_dataset(test_df, batch_size=best_params['batch_size'], shuffle=False)\n",
        "\n",
        "# finding optimal threshold\n",
        "print(\"\\nFinding Optimal Threshold to Maximize Precision\")\n",
        "y_val_pred_probs = best_model.predict(val_ds).ravel()\n",
        "y_val_true = val_df['label'].values\n",
        "precisions, recalls, thresholds = precision_recall_curve(y_val_true, y_val_pred_probs)\n",
        "\n",
        "MIN_RECALL_THRESHOLD_FINAL = 0.85\n",
        "\n",
        "# find all indices where recall is above the threshold\n",
        "indices = np.where(recalls[:-1] >= MIN_RECALL_THRESHOLD_FINAL)[0]\n",
        "\n",
        "if len(indices) > 0:\n",
        "    # find highest precision\n",
        "    best_precision_idx_within_recall_threshold = indices[np.argmax(precisions[indices])]\n",
        "    best_threshold = thresholds[best_precision_idx_within_recall_threshold]\n",
        "    print(f\"Found threshold {best_threshold:.4f} which gives {precisions[best_precision_idx_within_recall_threshold]:.4f} precision and {recalls[best_precision_idx_within_recall_threshold]:.4f} recall on the validation set.\")\n",
        "else:\n",
        "    # if recall threshold isn't met\n",
        "    best_recall_idx = np.argmax(recalls[:-1])\n",
        "    best_threshold = thresholds[min(best_recall_idx, len(thresholds)-1)]\n",
        "    print(f\"Could not meet recall > {MIN_RECALL_THRESHOLD_FINAL}. Using best possible recall threshold: {best_threshold:.4f} (Precision: {precisions[best_recall_idx]:.4f}, Recall: {recalls[best_recall_idx]:.4f})\")\n",
        "\n",
        "print(f\"\\nFinal Evaluation on Test Set (Threshold: {best_threshold:.4f})\")\n",
        "y_test_pred_probs = best_model.predict(test_ds).ravel()\n",
        "y_test_true = test_df['label'].values\n",
        "y_test_pred_final = (y_test_pred_probs >= best_threshold).astype(int)\n",
        "\n",
        "print(\"\\nClassification Report (Test Set):\")\n",
        "print(classification_report(y_test_true, y_test_pred_final, target_names=['Irrelevant (0)', 'Relevant (1)']))\n",
        "\n"
      ]
    },
    {
      "cell_type": "code",
      "execution_count": null,
      "metadata": {
        "colab": {
          "background_save": true
        },
        "id": "DXal45tPc8Hh",
        "outputId": "0dfed4da-b283-42e6-a33f-3d6cb02c2655"
      },
      "outputs": [
        {
          "name": "stdout",
          "output_type": "stream",
          "text": [
            "\n",
            "Confusion Matrix (Test Set):\n"
          ]
        },
        {
          "data": {
            "image/png": "[encoded data removed]",
            "text/plain": [
              "<Figure size 600x500 with 2 Axes>"
            ]
          },
          "metadata": {},
          "output_type": "display_data"
        }
      ],
      "source": [
        "print(\"\\nConfusion Matrix (Test Set):\")\n",
        "cm = confusion_matrix(y_test_true, y_test_pred_final)\n",
        "plt.figure(figsize=(6,5))\n",
        "sns.heatmap(cm, annot=True, fmt='d', cmap='Blues', xticklabels=['Irrelevant', 'Relevant'], yticklabels=['Irrelevant', 'Relevant'])\n",
        "plt.ylabel('Actual')\n",
        "plt.xlabel('Predicted')\n",
        "plt.title('Confusion Matrix')\n",
        "plt.show()"
      ]
    },
    {
      "cell_type": "code",
      "execution_count": null,
      "metadata": {
        "id": "juNMmstqc35D"
      },
      "outputs": [],
      "source": [
        "# zip and download\n",
        "from google.colab import files\n",
        "import shutil\n",
        "\n",
        "OUTPUT_DIR = 'best_bert_model_max_precision'\n",
        "best_model.save(OUTPUT_DIR)\n",
        "print(f\"\\nBest model saved to directory: {OUTPUT_DIR}\")\n",
        "\n",
        "shutil.make_archive(OUTPUT_DIR, 'zip', OUTPUT_DIR)\n",
        "print(f\"Zipped model created: {OUTPUT_DIR}.zip. Starting download...\")\n",
        "files.download(f\"{OUTPUT_DIR}.zip\")"
      ]
    }
  ],
  "metadata": {
    "accelerator": "GPU",
    "colab": {
      "gpuType": "A100",
      "provenance": []
    },
    "kernelspec": {
      "display_name": "Python 3",
      "name": "python3"
    }
  },
  "nbformat": 4,
  "nbformat_minor": 0
}